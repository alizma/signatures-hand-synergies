{
 "cells": [
  {
   "cell_type": "code",
   "execution_count": 15,
   "metadata": {},
   "outputs": [],
   "source": [
    "import scipy.io as sio\n",
    "import numpy as np\n",
    "import iisignature"
   ]
  },
  {
   "cell_type": "code",
   "execution_count": 13,
   "metadata": {},
   "outputs": [],
   "source": [
    "test_data_path = '../signatures_data/s1/S1_E1_A1.mat'\n",
    "mat = sio.loadmat(test_data_path)"
   ]
  },
  {
   "cell_type": "code",
   "execution_count": 14,
   "metadata": {},
   "outputs": [
    {
     "name": "stdout",
     "output_type": "stream",
     "text": [
      "Exercise number 3\n",
      "200 Hz\n",
      "(130267, 16)\n",
      "(130267, 22)\n"
     ]
    }
   ],
   "source": [
    "print(f\"Exercise number {mat['exercise'].item()}\")\n",
    "print(f\"{mat['frequency'].item()} Hz\")\n",
    "print(mat['emg'].shape)\n",
    "print(mat['glove'].shape)"
   ]
  },
  {
   "cell_type": "code",
   "execution_count": 18,
   "metadata": {},
   "outputs": [],
   "source": [
    "level = 4\n",
    "signature = iisignature.sig(mat['glove'], 2)"
   ]
  },
  {
   "cell_type": "code",
   "execution_count": 21,
   "metadata": {},
   "outputs": [],
   "source": [
    "assert signature.shape[0] == 22 * 22 + 22"
   ]
  },
  {
   "cell_type": "code",
   "execution_count": null,
   "metadata": {},
   "outputs": [],
   "source": []
  }
 ],
 "metadata": {
  "kernelspec": {
   "display_name": "signatures",
   "language": "python",
   "name": "python3"
  },
  "language_info": {
   "codemirror_mode": {
    "name": "ipython",
    "version": 3
   },
   "file_extension": ".py",
   "mimetype": "text/x-python",
   "name": "python",
   "nbconvert_exporter": "python",
   "pygments_lexer": "ipython3",
   "version": "3.11.0"
  },
  "orig_nbformat": 4,
  "vscode": {
   "interpreter": {
    "hash": "bb9cc3eca2c8231e981fb1e0f6b02032d6d746c99299a8ed51289e761cd494c2"
   }
  }
 },
 "nbformat": 4,
 "nbformat_minor": 2
}
