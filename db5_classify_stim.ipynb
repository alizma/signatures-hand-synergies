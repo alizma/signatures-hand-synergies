{
 "cells": [
  {
   "cell_type": "code",
   "execution_count": 1,
   "metadata": {},
   "outputs": [],
   "source": [
    "import scipy.io as sio\n",
    "import pandas as pd\n",
    "import numpy as np\n",
    "from matplotlib import pyplot as plt\n",
    "import os\n",
    "\n",
    "import iisignature\n",
    "from tqdm import tqdm"
   ]
  },
  {
   "cell_type": "code",
   "execution_count": 2,
   "metadata": {},
   "outputs": [],
   "source": [
    "def shift_stim(stims : pd.Series, shift : int):\n",
    "    # shifts all stimuli by an amount\n",
    "    stims[stims != 0] += shift\n",
    "    return stims"
   ]
  },
  {
   "cell_type": "code",
   "execution_count": 3,
   "metadata": {},
   "outputs": [],
   "source": [
    "def load_subject(data_paths, col='emg'):\n",
    "    df = pd.DataFrame([])\n",
    "    tot_stim = 0\n",
    "    for i, data_path in enumerate(data_paths):\n",
    "        mat = sio.loadmat(data_path)\n",
    "        if i == 0:\n",
    "            df = pd.DataFrame(mat[col])\n",
    "            df['stimulus'] = mat['restimulus']\n",
    "            df['repetition'] = mat['repetition']\n",
    "        else:\n",
    "            df2 = pd.DataFrame(mat[col])\n",
    "            df2['stimulus'] = shift_stim(pd.DataFrame(mat['restimulus']), tot_stim)\n",
    "            df2['repetition'] = mat['repetition']\n",
    "            df = pd.concat([df, df2], ignore_index=True)\n",
    "        tot_stim += len(np.unique(mat['restimulus'])) - 1\n",
    "    return df"
   ]
  },
  {
   "cell_type": "code",
   "execution_count": 4,
   "metadata": {},
   "outputs": [
    {
     "data": {
      "text/html": [
       "<div>\n",
       "<style scoped>\n",
       "    .dataframe tbody tr th:only-of-type {\n",
       "        vertical-align: middle;\n",
       "    }\n",
       "\n",
       "    .dataframe tbody tr th {\n",
       "        vertical-align: top;\n",
       "    }\n",
       "\n",
       "    .dataframe thead th {\n",
       "        text-align: right;\n",
       "    }\n",
       "</style>\n",
       "<table border=\"1\" class=\"dataframe\">\n",
       "  <thead>\n",
       "    <tr style=\"text-align: right;\">\n",
       "      <th></th>\n",
       "      <th>0</th>\n",
       "      <th>1</th>\n",
       "      <th>2</th>\n",
       "      <th>3</th>\n",
       "      <th>4</th>\n",
       "      <th>5</th>\n",
       "      <th>6</th>\n",
       "      <th>7</th>\n",
       "      <th>8</th>\n",
       "      <th>9</th>\n",
       "      <th>10</th>\n",
       "      <th>11</th>\n",
       "      <th>12</th>\n",
       "      <th>13</th>\n",
       "      <th>14</th>\n",
       "      <th>15</th>\n",
       "      <th>stimulus</th>\n",
       "      <th>repetition</th>\n",
       "    </tr>\n",
       "  </thead>\n",
       "  <tbody>\n",
       "    <tr>\n",
       "      <th>0</th>\n",
       "      <td>-22.0</td>\n",
       "      <td>-2.0</td>\n",
       "      <td>-16.0</td>\n",
       "      <td>-7.0</td>\n",
       "      <td>-3.0</td>\n",
       "      <td>-1.0</td>\n",
       "      <td>-2.0</td>\n",
       "      <td>-4.0</td>\n",
       "      <td>-2.0</td>\n",
       "      <td>-46.0</td>\n",
       "      <td>-49.0</td>\n",
       "      <td>-5.0</td>\n",
       "      <td>9.0</td>\n",
       "      <td>1.0</td>\n",
       "      <td>-1.0</td>\n",
       "      <td>-2.0</td>\n",
       "      <td>0</td>\n",
       "      <td>0</td>\n",
       "    </tr>\n",
       "    <tr>\n",
       "      <th>1</th>\n",
       "      <td>5.0</td>\n",
       "      <td>-4.0</td>\n",
       "      <td>-12.0</td>\n",
       "      <td>-3.0</td>\n",
       "      <td>8.0</td>\n",
       "      <td>25.0</td>\n",
       "      <td>1.0</td>\n",
       "      <td>1.0</td>\n",
       "      <td>-2.0</td>\n",
       "      <td>66.0</td>\n",
       "      <td>28.0</td>\n",
       "      <td>3.0</td>\n",
       "      <td>22.0</td>\n",
       "      <td>10.0</td>\n",
       "      <td>2.0</td>\n",
       "      <td>1.0</td>\n",
       "      <td>0</td>\n",
       "      <td>0</td>\n",
       "    </tr>\n",
       "    <tr>\n",
       "      <th>2</th>\n",
       "      <td>-6.0</td>\n",
       "      <td>1.0</td>\n",
       "      <td>4.0</td>\n",
       "      <td>-1.0</td>\n",
       "      <td>-9.0</td>\n",
       "      <td>0.0</td>\n",
       "      <td>-10.0</td>\n",
       "      <td>-3.0</td>\n",
       "      <td>-9.0</td>\n",
       "      <td>-52.0</td>\n",
       "      <td>-24.0</td>\n",
       "      <td>-2.0</td>\n",
       "      <td>-52.0</td>\n",
       "      <td>-14.0</td>\n",
       "      <td>-24.0</td>\n",
       "      <td>-3.0</td>\n",
       "      <td>0</td>\n",
       "      <td>0</td>\n",
       "    </tr>\n",
       "    <tr>\n",
       "      <th>3</th>\n",
       "      <td>15.0</td>\n",
       "      <td>10.0</td>\n",
       "      <td>19.0</td>\n",
       "      <td>9.0</td>\n",
       "      <td>10.0</td>\n",
       "      <td>7.0</td>\n",
       "      <td>2.0</td>\n",
       "      <td>1.0</td>\n",
       "      <td>-4.0</td>\n",
       "      <td>-13.0</td>\n",
       "      <td>19.0</td>\n",
       "      <td>4.0</td>\n",
       "      <td>28.0</td>\n",
       "      <td>6.0</td>\n",
       "      <td>-5.0</td>\n",
       "      <td>-12.0</td>\n",
       "      <td>0</td>\n",
       "      <td>0</td>\n",
       "    </tr>\n",
       "    <tr>\n",
       "      <th>4</th>\n",
       "      <td>-1.0</td>\n",
       "      <td>-16.0</td>\n",
       "      <td>-17.0</td>\n",
       "      <td>0.0</td>\n",
       "      <td>-2.0</td>\n",
       "      <td>-7.0</td>\n",
       "      <td>2.0</td>\n",
       "      <td>0.0</td>\n",
       "      <td>-6.0</td>\n",
       "      <td>27.0</td>\n",
       "      <td>7.0</td>\n",
       "      <td>-1.0</td>\n",
       "      <td>-22.0</td>\n",
       "      <td>-2.0</td>\n",
       "      <td>-7.0</td>\n",
       "      <td>15.0</td>\n",
       "      <td>0</td>\n",
       "      <td>0</td>\n",
       "    </tr>\n",
       "  </tbody>\n",
       "</table>\n",
       "</div>"
      ],
      "text/plain": [
       "      0     1     2    3     4     5     6    7    8     9    10   11    12  \\\n",
       "0 -22.0  -2.0 -16.0 -7.0  -3.0  -1.0  -2.0 -4.0 -2.0 -46.0 -49.0 -5.0   9.0   \n",
       "1   5.0  -4.0 -12.0 -3.0   8.0  25.0   1.0  1.0 -2.0  66.0  28.0  3.0  22.0   \n",
       "2  -6.0   1.0   4.0 -1.0  -9.0   0.0 -10.0 -3.0 -9.0 -52.0 -24.0 -2.0 -52.0   \n",
       "3  15.0  10.0  19.0  9.0  10.0   7.0   2.0  1.0 -4.0 -13.0  19.0  4.0  28.0   \n",
       "4  -1.0 -16.0 -17.0  0.0  -2.0  -7.0   2.0  0.0 -6.0  27.0   7.0 -1.0 -22.0   \n",
       "\n",
       "     13    14    15  stimulus  repetition  \n",
       "0   1.0  -1.0  -2.0         0           0  \n",
       "1  10.0   2.0   1.0         0           0  \n",
       "2 -14.0 -24.0  -3.0         0           0  \n",
       "3   6.0  -5.0 -12.0         0           0  \n",
       "4  -2.0  -7.0  15.0         0           0  "
      ]
     },
     "execution_count": 4,
     "metadata": {},
     "output_type": "execute_result"
    }
   ],
   "source": [
    "subjects = range(1, 11)\n",
    "exercises = [1, 2, 3]\n",
    "root = './signatures_data/'\n",
    "df = pd.DataFrame([])\n",
    "for subject in subjects:\n",
    "    data_paths = [os.path.join(root, f\"s{subject}/S{subject}_E{exercise}_A1.mat\") for exercise in exercises]\n",
    "    cur_df = load_subject(data_paths)\n",
    "    df = pd.concat([df, cur_df], ignore_index=True)\n",
    "df.head()"
   ]
  },
  {
   "cell_type": "code",
   "execution_count": 5,
   "metadata": {},
   "outputs": [
    {
     "data": {
      "text/plain": [
       "(6353315, 18)"
      ]
     },
     "execution_count": 5,
     "metadata": {},
     "output_type": "execute_result"
    }
   ],
   "source": [
    "df.shape"
   ]
  },
  {
   "attachments": {},
   "cell_type": "markdown",
   "metadata": {},
   "source": [
    "Contains 16 sEmg signals: columns 0-7 are spaced around the forearm, 8-15 are 22.5 degrees tilted (both sampled at 200 Hz)\n",
    "\n",
    "41 movements in total are analyzed and each movement is repeated 6 times\n",
    "\n"
   ]
  },
  {
   "cell_type": "code",
   "execution_count": 6,
   "metadata": {},
   "outputs": [
    {
     "data": {
      "text/plain": [
       "array([ 0,  1,  2,  3,  4,  5,  6,  7,  8,  9, 10, 11, 12, 13, 14, 15, 16,\n",
       "       17, 18, 19, 20, 21, 22, 23, 24, 25, 26, 27, 28, 29, 30, 31, 32, 33,\n",
       "       34, 35, 36, 37, 38, 39, 40, 41, 42, 43, 44, 45, 46, 47, 48, 49, 50,\n",
       "       51, 52], dtype=int8)"
      ]
     },
     "execution_count": 6,
     "metadata": {},
     "output_type": "execute_result"
    }
   ],
   "source": [
    "np.unique(df['stimulus'])"
   ]
  },
  {
   "cell_type": "code",
   "execution_count": 7,
   "metadata": {},
   "outputs": [
    {
     "data": {
      "text/plain": [
       "array([0, 1, 2, 3, 4, 5, 6], dtype=int8)"
      ]
     },
     "execution_count": 7,
     "metadata": {},
     "output_type": "execute_result"
    }
   ],
   "source": [
    "np.unique(df['repetition'])"
   ]
  },
  {
   "attachments": {},
   "cell_type": "markdown",
   "metadata": {},
   "source": [
    "Original DB5 paper utilizes repetitions 1, 3, 4, 5 for training classifiers and repetitions 2, 5 for validation"
   ]
  },
  {
   "cell_type": "code",
   "execution_count": 8,
   "metadata": {},
   "outputs": [],
   "source": [
    "train_set = [1, 3, 4, 6]\n",
    "test_set = [2, 5]"
   ]
  },
  {
   "cell_type": "code",
   "execution_count": 9,
   "metadata": {},
   "outputs": [],
   "source": [
    "def compute_log_signature(path, depth, dims=None):\n",
    "    if dims is None:\n",
    "        dims = path.shape[1] # take second, assumes (timesteps, dims)\n",
    "    s = iisignature.prepare(dims, depth)\n",
    "    return iisignature.logsig(path, s)"
   ]
  },
  {
   "attachments": {},
   "cell_type": "markdown",
   "metadata": {},
   "source": [
    "We define a few utilities for dealing with the Ninapro data: a normalizer, which takes sEMG data and specific repetitions, then centers and scales those repetitions to unit variance as well as the notion of a path, which can be windowed to a specified size and designated overlap between successive windows."
   ]
  },
  {
   "cell_type": "code",
   "execution_count": 47,
   "metadata": {},
   "outputs": [],
   "source": [
    "from normalizers import *\n",
    "\n",
    "class Path():\n",
    "    def __init__(self, vals, dims, reps=range(1, 7), norm_vals=True):\n",
    "        self.vals = vals.reset_index(drop=True, inplace=False)\n",
    "        self.dims = dims\n",
    "        if norm_vals:\n",
    "            self.vals = better_normalize(self.vals, reps, dims=self.dims)\n",
    "\n",
    "class DB5Path(Path):\n",
    "    def __init__(self, vals, exercise, repetition, dims=None):\n",
    "        if dims is None:\n",
    "            temp_dims = vals.shape[1] - 2\n",
    "        else:\n",
    "            temp_dims = dims\n",
    "        super().__init__(vals, temp_dims)\n",
    "        self.exercise = exercise\n",
    "        self.repetition = repetition\n",
    "    \n",
    "    def naive_padding(self, length) -> np.array:\n",
    "        tempdf = pd.DataFrame(np.random.standard_normal(size = (length, self.dims)))\n",
    "        tempdf['stimulus'] = pd.Series(np.ones(length) * self.exercise)\n",
    "        tempdf['repetition'] = pd.Series(np.ones(length) * self.repetition)\n",
    "        return tempdf\n",
    "    \n",
    "    def get_windows(self, window_size, overlap, use_padding=False) -> np.array:\n",
    "        \"\"\"\n",
    "        returns a list of dataframes\n",
    "        \"\"\"\n",
    "        begin = 0\n",
    "        ans = []\n",
    "        n = len(self.vals)\n",
    "        while(begin < n):\n",
    "            if (begin + window_size < n):\n",
    "                ans.append(self.vals[begin:begin + window_size])\n",
    "            else:\n",
    "                # need to pad it out\n",
    "                if use_padding:\n",
    "                    overflow = (n - begin) % window_size\n",
    "                    ans.append(pd.concat([self.vals[begin:], self.naive_padding(window_size - overflow)], ignore_index=True))\n",
    "                else:\n",
    "                    pass  # other option is to drop the last bit\n",
    "            begin += window_size - overlap\n",
    "        return ans\n"
   ]
  },
  {
   "cell_type": "code",
   "execution_count": 48,
   "metadata": {},
   "outputs": [],
   "source": [
    "stimulus = 1\n",
    "repetition = 6\n",
    "dbpth = DB5Path(df[(df.stimulus == stimulus) & (df.repetition == repetition)], stimulus, repetition)"
   ]
  },
  {
   "cell_type": "code",
   "execution_count": 49,
   "metadata": {},
   "outputs": [
    {
     "data": {
      "text/html": [
       "<div>\n",
       "<style scoped>\n",
       "    .dataframe tbody tr th:only-of-type {\n",
       "        vertical-align: middle;\n",
       "    }\n",
       "\n",
       "    .dataframe tbody tr th {\n",
       "        vertical-align: top;\n",
       "    }\n",
       "\n",
       "    .dataframe thead th {\n",
       "        text-align: right;\n",
       "    }\n",
       "</style>\n",
       "<table border=\"1\" class=\"dataframe\">\n",
       "  <thead>\n",
       "    <tr style=\"text-align: right;\">\n",
       "      <th></th>\n",
       "      <th>0</th>\n",
       "      <th>1</th>\n",
       "      <th>2</th>\n",
       "      <th>3</th>\n",
       "      <th>4</th>\n",
       "      <th>5</th>\n",
       "      <th>6</th>\n",
       "      <th>7</th>\n",
       "      <th>8</th>\n",
       "      <th>9</th>\n",
       "      <th>10</th>\n",
       "      <th>11</th>\n",
       "      <th>12</th>\n",
       "      <th>13</th>\n",
       "      <th>14</th>\n",
       "      <th>15</th>\n",
       "      <th>stimulus</th>\n",
       "      <th>repetition</th>\n",
       "    </tr>\n",
       "  </thead>\n",
       "  <tbody>\n",
       "    <tr>\n",
       "      <th>0</th>\n",
       "      <td>0.056856</td>\n",
       "      <td>-0.200332</td>\n",
       "      <td>-0.018620</td>\n",
       "      <td>0.308734</td>\n",
       "      <td>0.172081</td>\n",
       "      <td>0.112966</td>\n",
       "      <td>0.066707</td>\n",
       "      <td>0.202757</td>\n",
       "      <td>0.061052</td>\n",
       "      <td>-0.060225</td>\n",
       "      <td>0.257051</td>\n",
       "      <td>-0.284198</td>\n",
       "      <td>-0.005941</td>\n",
       "      <td>0.310912</td>\n",
       "      <td>0.206711</td>\n",
       "      <td>0.000806</td>\n",
       "      <td>1</td>\n",
       "      <td>6</td>\n",
       "    </tr>\n",
       "    <tr>\n",
       "      <th>1</th>\n",
       "      <td>-0.192609</td>\n",
       "      <td>0.102298</td>\n",
       "      <td>0.163349</td>\n",
       "      <td>0.308734</td>\n",
       "      <td>0.376548</td>\n",
       "      <td>-0.158017</td>\n",
       "      <td>-0.174993</td>\n",
       "      <td>-0.017308</td>\n",
       "      <td>0.008801</td>\n",
       "      <td>-0.125168</td>\n",
       "      <td>0.257051</td>\n",
       "      <td>-0.009470</td>\n",
       "      <td>-0.005941</td>\n",
       "      <td>-0.106200</td>\n",
       "      <td>-0.104221</td>\n",
       "      <td>0.174622</td>\n",
       "      <td>1</td>\n",
       "      <td>6</td>\n",
       "    </tr>\n",
       "    <tr>\n",
       "      <th>2</th>\n",
       "      <td>-0.192609</td>\n",
       "      <td>-0.070633</td>\n",
       "      <td>-0.018620</td>\n",
       "      <td>-0.027550</td>\n",
       "      <td>-0.032386</td>\n",
       "      <td>-0.158017</td>\n",
       "      <td>-0.013860</td>\n",
       "      <td>0.092724</td>\n",
       "      <td>0.165555</td>\n",
       "      <td>0.199548</td>\n",
       "      <td>0.007882</td>\n",
       "      <td>-0.284198</td>\n",
       "      <td>0.300901</td>\n",
       "      <td>0.102356</td>\n",
       "      <td>-0.000577</td>\n",
       "      <td>0.000806</td>\n",
       "      <td>1</td>\n",
       "      <td>6</td>\n",
       "    </tr>\n",
       "    <tr>\n",
       "      <th>3</th>\n",
       "      <td>0.119222</td>\n",
       "      <td>-0.027401</td>\n",
       "      <td>-0.382556</td>\n",
       "      <td>-0.027550</td>\n",
       "      <td>-0.441321</td>\n",
       "      <td>-0.158017</td>\n",
       "      <td>-0.094426</td>\n",
       "      <td>0.202757</td>\n",
       "      <td>-0.043451</td>\n",
       "      <td>0.069661</td>\n",
       "      <td>0.257051</td>\n",
       "      <td>-0.009470</td>\n",
       "      <td>-0.005941</td>\n",
       "      <td>0.310912</td>\n",
       "      <td>-0.311509</td>\n",
       "      <td>0.174622</td>\n",
       "      <td>1</td>\n",
       "      <td>6</td>\n",
       "    </tr>\n",
       "    <tr>\n",
       "      <th>4</th>\n",
       "      <td>0.056856</td>\n",
       "      <td>0.059065</td>\n",
       "      <td>-0.382556</td>\n",
       "      <td>-0.363834</td>\n",
       "      <td>-0.032386</td>\n",
       "      <td>-0.022525</td>\n",
       "      <td>0.066707</td>\n",
       "      <td>0.202757</td>\n",
       "      <td>0.008801</td>\n",
       "      <td>0.134605</td>\n",
       "      <td>-0.490454</td>\n",
       "      <td>-0.833653</td>\n",
       "      <td>-0.005941</td>\n",
       "      <td>-0.001922</td>\n",
       "      <td>0.206711</td>\n",
       "      <td>-0.173011</td>\n",
       "      <td>1</td>\n",
       "      <td>6</td>\n",
       "    </tr>\n",
       "  </tbody>\n",
       "</table>\n",
       "</div>"
      ],
      "text/plain": [
       "          0         1         2         3         4         5         6  \\\n",
       "0  0.056856 -0.200332 -0.018620  0.308734  0.172081  0.112966  0.066707   \n",
       "1 -0.192609  0.102298  0.163349  0.308734  0.376548 -0.158017 -0.174993   \n",
       "2 -0.192609 -0.070633 -0.018620 -0.027550 -0.032386 -0.158017 -0.013860   \n",
       "3  0.119222 -0.027401 -0.382556 -0.027550 -0.441321 -0.158017 -0.094426   \n",
       "4  0.056856  0.059065 -0.382556 -0.363834 -0.032386 -0.022525  0.066707   \n",
       "\n",
       "          7         8         9        10        11        12        13  \\\n",
       "0  0.202757  0.061052 -0.060225  0.257051 -0.284198 -0.005941  0.310912   \n",
       "1 -0.017308  0.008801 -0.125168  0.257051 -0.009470 -0.005941 -0.106200   \n",
       "2  0.092724  0.165555  0.199548  0.007882 -0.284198  0.300901  0.102356   \n",
       "3  0.202757 -0.043451  0.069661  0.257051 -0.009470 -0.005941  0.310912   \n",
       "4  0.202757  0.008801  0.134605 -0.490454 -0.833653 -0.005941 -0.001922   \n",
       "\n",
       "         14        15  stimulus  repetition  \n",
       "0  0.206711  0.000806         1           6  \n",
       "1 -0.104221  0.174622         1           6  \n",
       "2 -0.000577  0.000806         1           6  \n",
       "3 -0.311509  0.174622         1           6  \n",
       "4  0.206711 -0.173011         1           6  "
      ]
     },
     "execution_count": 49,
     "metadata": {},
     "output_type": "execute_result"
    }
   ],
   "source": [
    "dbpth.vals.head()"
   ]
  },
  {
   "cell_type": "code",
   "execution_count": 50,
   "metadata": {},
   "outputs": [
    {
     "data": {
      "text/plain": [
       "(9167, 18)"
      ]
     },
     "execution_count": 50,
     "metadata": {},
     "output_type": "execute_result"
    }
   ],
   "source": [
    "dbpth.vals.shape "
   ]
  },
  {
   "cell_type": "code",
   "execution_count": 51,
   "metadata": {},
   "outputs": [
    {
     "data": {
      "text/plain": [
       "90"
      ]
     },
     "execution_count": 51,
     "metadata": {},
     "output_type": "execute_result"
    }
   ],
   "source": [
    "windows = dbpth.get_windows(window_size=200, overlap=100)\n",
    "len(windows)"
   ]
  },
  {
   "cell_type": "code",
   "execution_count": 52,
   "metadata": {},
   "outputs": [
    {
     "data": {
      "image/png": "[encoded data removed]",
      "text/plain": [
       "<Figure size 640x480 with 1 Axes>"
      ]
     },
     "metadata": {},
     "output_type": "display_data"
    }
   ],
   "source": [
    "for i in range(2):\n",
    "    plt.plot(windows[0][i])"
   ]
  },
  {
   "cell_type": "code",
   "execution_count": 18,
   "metadata": {},
   "outputs": [],
   "source": [
    "repetitions = [1, 2, 3, 4, 5, 6]\n",
    "stims = [1, 3]\n",
    "train_windows = []\n",
    "test_windows = []\n",
    "for stimulus in stims:\n",
    "    for repetition in repetitions:\n",
    "        dbpth = DB5Path(df[(df.stimulus == stimulus) & (df.repetition == repetition)], stimulus, repetition)\n",
    "        if repetition in train_set:\n",
    "            train_windows += dbpth.get_windows(window_size=200, overlap=100)\n",
    "        elif repetition in test_set:\n",
    "            test_windows += dbpth.get_windows(window_size=200, overlap=100)"
   ]
  },
  {
   "cell_type": "code",
   "execution_count": 19,
   "metadata": {},
   "outputs": [
    {
     "data": {
      "text/plain": [
       "(692, 336)"
      ]
     },
     "execution_count": 19,
     "metadata": {},
     "output_type": "execute_result"
    }
   ],
   "source": [
    "len(train_windows), len(test_windows)"
   ]
  },
  {
   "cell_type": "code",
   "execution_count": 20,
   "metadata": {},
   "outputs": [],
   "source": [
    "def splitxy(dfs : list, x_cols, y_col):\n",
    "    x = []\n",
    "    y = []\n",
    "    for df in dfs:\n",
    "        x.append(df[x_cols].to_numpy())\n",
    "        y.append(df[y_col].to_numpy()[0]) # assume everything is of the same class\n",
    "    return np.array(x), np.array(y).reshape(-1)"
   ]
  },
  {
   "cell_type": "code",
   "execution_count": 21,
   "metadata": {},
   "outputs": [],
   "source": [
    "train_x, train_y = splitxy(train_windows, range(16), ['stimulus'])\n",
    "test_x, test_y = splitxy(test_windows, range(16), ['stimulus'])"
   ]
  },
  {
   "attachments": {},
   "cell_type": "markdown",
   "metadata": {},
   "source": [
    "After performing a test-train split, we compute the log signatures on each window to a depth of 2. "
   ]
  },
  {
   "cell_type": "code",
   "execution_count": 22,
   "metadata": {},
   "outputs": [
    {
     "name": "stderr",
     "output_type": "stream",
     "text": [
      "100%|██████████| 692/692 [00:00<00:00, 5093.05it/s]\n",
      "100%|██████████| 336/336 [00:00<00:00, 5074.34it/s]\n"
     ]
    }
   ],
   "source": [
    "train_signatures = []\n",
    "for window in tqdm(train_x):\n",
    "    train_signatures.append(compute_log_signature(window, depth=2))\n",
    "test_signatures = []\n",
    "for window in tqdm(test_x):\n",
    "    test_signatures.append(compute_log_signature(window, depth=2))\n",
    "train_signatures = np.array(train_signatures)\n",
    "test_signatures = np.array(test_signatures)"
   ]
  },
  {
   "cell_type": "code",
   "execution_count": 23,
   "metadata": {},
   "outputs": [
    {
     "data": {
      "text/plain": [
       "((692, 136), (336, 136))"
      ]
     },
     "execution_count": 23,
     "metadata": {},
     "output_type": "execute_result"
    }
   ],
   "source": [
    "train_signatures.shape, test_signatures.shape"
   ]
  },
  {
   "attachments": {},
   "cell_type": "markdown",
   "metadata": {},
   "source": [
    "We use a SVM since it's not immediately apparent what to do with such high-dimensional data. The human action recognition example used a linear classifier with a dropout layer, which was trained."
   ]
  },
  {
   "cell_type": "code",
   "execution_count": 24,
   "metadata": {},
   "outputs": [],
   "source": [
    "from sklearn import svm"
   ]
  },
  {
   "cell_type": "code",
   "execution_count": 25,
   "metadata": {},
   "outputs": [],
   "source": [
    "def accuracy(pred, true):\n",
    "    assert len(pred) == len(true), \"check lengths match\"\n",
    "    return np.sum((pred == true)) / len(pred)\n"
   ]
  },
  {
   "cell_type": "code",
   "execution_count": 26,
   "metadata": {},
   "outputs": [],
   "source": [
    "assert accuracy(np.array([1, 1, 1, 2]), np.array([1, 2, 1, 2])) == 0.75"
   ]
  },
  {
   "cell_type": "code",
   "execution_count": 37,
   "metadata": {},
   "outputs": [],
   "source": [
    "classifier = svm.SVC()"
   ]
  },
  {
   "cell_type": "code",
   "execution_count": 38,
   "metadata": {},
   "outputs": [
    {
     "data": {
      "text/plain": [
       "((692, 200, 16), (692, 1))"
      ]
     },
     "execution_count": 38,
     "metadata": {},
     "output_type": "execute_result"
    }
   ],
   "source": [
    "train_x.shape, train_y.shape"
   ]
  },
  {
   "cell_type": "code",
   "execution_count": 39,
   "metadata": {},
   "outputs": [
    {
     "name": "stdout",
     "output_type": "stream",
     "text": [
      "(692, 136) (692, 1)\n",
      "(336, 136) (336, 1)\n"
     ]
    }
   ],
   "source": [
    "print(train_signatures.shape, train_y.shape)\n",
    "print(test_signatures.shape, test_y.shape)"
   ]
  },
  {
   "cell_type": "code",
   "execution_count": 40,
   "metadata": {},
   "outputs": [
    {
     "name": "stderr",
     "output_type": "stream",
     "text": [
      "/home/alan/.miniconda3/envs/signatures/lib/python3.11/site-packages/sklearn/utils/validation.py:1143: DataConversionWarning: A column-vector y was passed when a 1d array was expected. Please change the shape of y to (n_samples, ), for example using ravel().\n",
      "  y = column_or_1d(y, warn=True)\n"
     ]
    },
    {
     "data": {
      "text/html": [
       "<style>#sk-container-id-2 {color: black;background-color: white;}#sk-container-id-2 pre{padding: 0;}#sk-container-id-2 div.sk-toggleable {background-color: white;}#sk-container-id-2 label.sk-toggleable__label {cursor: pointer;display: block;width: 100%;margin-bottom: 0;padding: 0.3em;box-sizing: border-box;text-align: center;}#sk-container-id-2 label.sk-toggleable__label-arrow:before {content: \"▸\";float: left;margin-right: 0.25em;color: #696969;}#sk-container-id-2 label.sk-toggleable__label-arrow:hover:before {color: black;}#sk-container-id-2 div.sk-estimator:hover label.sk-toggleable__label-arrow:before {color: black;}#sk-container-id-2 div.sk-toggleable__content {max-height: 0;max-width: 0;overflow: hidden;text-align: left;background-color: #f0f8ff;}#sk-container-id-2 div.sk-toggleable__content pre {margin: 0.2em;color: black;border-radius: 0.25em;background-color: #f0f8ff;}#sk-container-id-2 input.sk-toggleable__control:checked~div.sk-toggleable__content {max-height: 200px;max-width: 100%;overflow: auto;}#sk-container-id-2 input.sk-toggleable__control:checked~label.sk-toggleable__label-arrow:before {content: \"▾\";}#sk-container-id-2 div.sk-estimator input.sk-toggleable__control:checked~label.sk-toggleable__label {background-color: #d4ebff;}#sk-container-id-2 div.sk-label input.sk-toggleable__control:checked~label.sk-toggleable__label {background-color: #d4ebff;}#sk-container-id-2 input.sk-hidden--visually {border: 0;clip: rect(1px 1px 1px 1px);clip: rect(1px, 1px, 1px, 1px);height: 1px;margin: -1px;overflow: hidden;padding: 0;position: absolute;width: 1px;}#sk-container-id-2 div.sk-estimator {font-family: monospace;background-color: #f0f8ff;border: 1px dotted black;border-radius: 0.25em;box-sizing: border-box;margin-bottom: 0.5em;}#sk-container-id-2 div.sk-estimator:hover {background-color: #d4ebff;}#sk-container-id-2 div.sk-parallel-item::after {content: \"\";width: 100%;border-bottom: 1px solid gray;flex-grow: 1;}#sk-container-id-2 div.sk-label:hover label.sk-toggleable__label {background-color: #d4ebff;}#sk-container-id-2 div.sk-serial::before {content: \"\";position: absolute;border-left: 1px solid gray;box-sizing: border-box;top: 0;bottom: 0;left: 50%;z-index: 0;}#sk-container-id-2 div.sk-serial {display: flex;flex-direction: column;align-items: center;background-color: white;padding-right: 0.2em;padding-left: 0.2em;position: relative;}#sk-container-id-2 div.sk-item {position: relative;z-index: 1;}#sk-container-id-2 div.sk-parallel {display: flex;align-items: stretch;justify-content: center;background-color: white;position: relative;}#sk-container-id-2 div.sk-item::before, #sk-container-id-2 div.sk-parallel-item::before {content: \"\";position: absolute;border-left: 1px solid gray;box-sizing: border-box;top: 0;bottom: 0;left: 50%;z-index: -1;}#sk-container-id-2 div.sk-parallel-item {display: flex;flex-direction: column;z-index: 1;position: relative;background-color: white;}#sk-container-id-2 div.sk-parallel-item:first-child::after {align-self: flex-end;width: 50%;}#sk-container-id-2 div.sk-parallel-item:last-child::after {align-self: flex-start;width: 50%;}#sk-container-id-2 div.sk-parallel-item:only-child::after {width: 0;}#sk-container-id-2 div.sk-dashed-wrapped {border: 1px dashed gray;margin: 0 0.4em 0.5em 0.4em;box-sizing: border-box;padding-bottom: 0.4em;background-color: white;}#sk-container-id-2 div.sk-label label {font-family: monospace;font-weight: bold;display: inline-block;line-height: 1.2em;}#sk-container-id-2 div.sk-label-container {text-align: center;}#sk-container-id-2 div.sk-container {/* jupyter's `normalize.less` sets `[hidden] { display: none; }` but bootstrap.min.css set `[hidden] { display: none !important; }` so we also need the `!important` here to be able to override the default hidden behavior on the sphinx rendered scikit-learn.org. See: https://github.com/scikit-learn/scikit-learn/issues/21755 */display: inline-block !important;position: relative;}#sk-container-id-2 div.sk-text-repr-fallback {display: none;}</style><div id=\"sk-container-id-2\" class=\"sk-top-container\"><div class=\"sk-text-repr-fallback\"><pre>SVC()</pre><b>In a Jupyter environment, please rerun this cell to show the HTML representation or trust the notebook. <br />On GitHub, the HTML representation is unable to render, please try loading this page with nbviewer.org.</b></div><div class=\"sk-container\" hidden><div class=\"sk-item\"><div class=\"sk-estimator sk-toggleable\"><input class=\"sk-toggleable__control sk-hidden--visually\" id=\"sk-estimator-id-2\" type=\"checkbox\" checked><label for=\"sk-estimator-id-2\" class=\"sk-toggleable__label sk-toggleable__label-arrow\">SVC</label><div class=\"sk-toggleable__content\"><pre>SVC()</pre></div></div></div></div></div>"
      ],
      "text/plain": [
       "SVC()"
      ]
     },
     "execution_count": 40,
     "metadata": {},
     "output_type": "execute_result"
    }
   ],
   "source": [
    "classifier.fit(train_signatures, train_y)"
   ]
  },
  {
   "cell_type": "code",
   "execution_count": 41,
   "metadata": {},
   "outputs": [
    {
     "name": "stdout",
     "output_type": "stream",
     "text": [
      "training set accuracy: 0.8526011560693642\n"
     ]
    }
   ],
   "source": [
    "train_pred = classifier.predict(train_signatures)\n",
    "print(\"training set accuracy:\", accuracy(train_pred, train_y)"
   ]
  },
  {
   "cell_type": "code",
   "execution_count": 42,
   "metadata": {},
   "outputs": [],
   "source": [
    "pred = classifier.predict(test_signatures)"
   ]
  },
  {
   "cell_type": "code",
   "execution_count": 43,
   "metadata": {},
   "outputs": [
    {
     "data": {
      "text/plain": [
       "0.6517857142857143"
      ]
     },
     "execution_count": 43,
     "metadata": {},
     "output_type": "execute_result"
    }
   ],
   "source": [
    "accuracy(pred, test_y)"
   ]
  },
  {
   "cell_type": "code",
   "execution_count": 44,
   "metadata": {},
   "outputs": [],
   "source": [
    "from sklearn.metrics import confusion_matrix, ConfusionMatrixDisplay"
   ]
  },
  {
   "cell_type": "code",
   "execution_count": 45,
   "metadata": {},
   "outputs": [],
   "source": [
    "cm = confusion_matrix(test_y, pred)"
   ]
  },
  {
   "cell_type": "code",
   "execution_count": 46,
   "metadata": {},
   "outputs": [
    {
     "data": {
      "image/png": "[encoded data removed]",
      "text/plain": [
       "<Figure size 500x500 with 2 Axes>"
      ]
     },
     "metadata": {},
     "output_type": "display_data"
    }
   ],
   "source": [
    "fig = plt.figure(figsize=(5, 5))\n",
    "ax = fig.add_subplot(111)\n",
    "cm_display = ConfusionMatrixDisplay(cm,\n",
    "                                    display_labels=stims).plot(ax=ax,\n",
    "                                                                       xticks_rotation=\"vertical\")"
   ]
  },
  {
   "attachments": {},
   "cell_type": "markdown",
   "metadata": {},
   "source": [
    "## Try the same thing with glove data!\n",
    "\n",
    "Let's stick to differentiating between stimuli $1$ and $3$ - pretty sure there should be some significant differences here. Let's look at glove data plots."
   ]
  },
  {
   "attachments": {},
   "cell_type": "markdown",
   "metadata": {},
   "source": [
    "Let's look at just subject $1$, exercise $1$ vs exercise $3$'s activity so we can extract out what we think are relevant features."
   ]
  },
  {
   "cell_type": "code",
   "execution_count": 53,
   "metadata": {},
   "outputs": [],
   "source": [
    "#data_paths = [os.path.join(root, f\"s1/S1_E{exercise}_A1.mat\") for exercise in exercises]\n",
    "data_paths = [os.path.join(root, f\"s1/S1_E1_A1.mat\")]\n",
    "s1_df = load_subject(data_paths, col='glove')"
   ]
  },
  {
   "cell_type": "code",
   "execution_count": 54,
   "metadata": {},
   "outputs": [
    {
     "data": {
      "text/plain": [
       "<AxesSubplot: title={'center': 'Glove Electrode Signals, subject 1, exercise 1'}>"
      ]
     },
     "execution_count": 54,
     "metadata": {},
     "output_type": "execute_result"
    },
    {
     "data": {
      "image/png": "[encoded data removed]",
      "text/plain": [
       "<Figure size 900x600 with 1 Axes>"
      ]
     },
     "metadata": {},
     "output_type": "display_data"
    }
   ],
   "source": [
    "s1_df[(s1_df.stimulus==1) & (s1_df.repetition==2)].plot(figsize=(9,6), title=\"Glove Electrode Signals, subject 1, exercise 1\")"
   ]
  },
  {
   "cell_type": "code",
   "execution_count": 55,
   "metadata": {},
   "outputs": [
    {
     "data": {
      "text/plain": [
       "<AxesSubplot: title={'center': 'Glove Electrode Signals, subject 1, exercise 3'}>"
      ]
     },
     "execution_count": 55,
     "metadata": {},
     "output_type": "execute_result"
    },
    {
     "data": {
      "image/png": "[encoded data removed]",
      "text/plain": [
       "<Figure size 900x600 with 1 Axes>"
      ]
     },
     "metadata": {},
     "output_type": "display_data"
    }
   ],
   "source": [
    "s1_df[(s1_df.stimulus==3) & (s1_df.repetition==2)].plot(figsize=(9,6), title=\"Glove Electrode Signals, subject 1, exercise 3\")"
   ]
  },
  {
   "attachments": {},
   "cell_type": "markdown",
   "metadata": {},
   "source": [
    "*Using $1$ indexing...*\n",
    "\n",
    "So, looks like sensors $11$ and $6$ are active in the first exercise (an index finger flexion) and sensors $11$ and $9$ are active in the second exercise (a middle finger flexion). Looking at the image, these make sense.\n",
    "\n",
    "<img src=\"sensor_mapping.png\" width=300>"
   ]
  },
  {
   "cell_type": "code",
   "execution_count": 56,
   "metadata": {},
   "outputs": [
    {
     "data": {
      "text/html": [
       "<div>\n",
       "<style scoped>\n",
       "    .dataframe tbody tr th:only-of-type {\n",
       "        vertical-align: middle;\n",
       "    }\n",
       "\n",
       "    .dataframe tbody tr th {\n",
       "        vertical-align: top;\n",
       "    }\n",
       "\n",
       "    .dataframe thead th {\n",
       "        text-align: right;\n",
       "    }\n",
       "</style>\n",
       "<table border=\"1\" class=\"dataframe\">\n",
       "  <thead>\n",
       "    <tr style=\"text-align: right;\">\n",
       "      <th></th>\n",
       "      <th>0</th>\n",
       "      <th>1</th>\n",
       "      <th>2</th>\n",
       "      <th>3</th>\n",
       "      <th>4</th>\n",
       "      <th>5</th>\n",
       "      <th>6</th>\n",
       "      <th>7</th>\n",
       "      <th>8</th>\n",
       "      <th>9</th>\n",
       "      <th>...</th>\n",
       "      <th>14</th>\n",
       "      <th>15</th>\n",
       "      <th>16</th>\n",
       "      <th>17</th>\n",
       "      <th>18</th>\n",
       "      <th>19</th>\n",
       "      <th>20</th>\n",
       "      <th>21</th>\n",
       "      <th>stimulus</th>\n",
       "      <th>repetition</th>\n",
       "    </tr>\n",
       "  </thead>\n",
       "  <tbody>\n",
       "    <tr>\n",
       "      <th>0</th>\n",
       "      <td>81.193825</td>\n",
       "      <td>-25.613001</td>\n",
       "      <td>17.336512</td>\n",
       "      <td>-6.904053</td>\n",
       "      <td>12.986491</td>\n",
       "      <td>18.831488</td>\n",
       "      <td>1.902927</td>\n",
       "      <td>19.194145</td>\n",
       "      <td>6.613120</td>\n",
       "      <td>-22.310045</td>\n",
       "      <td>...</td>\n",
       "      <td>-3.972004</td>\n",
       "      <td>27.264063</td>\n",
       "      <td>21.547808</td>\n",
       "      <td>-0.084706</td>\n",
       "      <td>13.291741</td>\n",
       "      <td>65.754509</td>\n",
       "      <td>2.470584</td>\n",
       "      <td>24.564764</td>\n",
       "      <td>0</td>\n",
       "      <td>0</td>\n",
       "    </tr>\n",
       "    <tr>\n",
       "      <th>1</th>\n",
       "      <td>81.147217</td>\n",
       "      <td>-25.613001</td>\n",
       "      <td>17.336512</td>\n",
       "      <td>-6.949311</td>\n",
       "      <td>12.898676</td>\n",
       "      <td>18.659233</td>\n",
       "      <td>1.944808</td>\n",
       "      <td>19.242105</td>\n",
       "      <td>6.309145</td>\n",
       "      <td>-22.280998</td>\n",
       "      <td>...</td>\n",
       "      <td>-3.901077</td>\n",
       "      <td>27.264063</td>\n",
       "      <td>21.477554</td>\n",
       "      <td>-0.084706</td>\n",
       "      <td>13.291741</td>\n",
       "      <td>65.754509</td>\n",
       "      <td>2.470584</td>\n",
       "      <td>24.564764</td>\n",
       "      <td>0</td>\n",
       "      <td>0</td>\n",
       "    </tr>\n",
       "    <tr>\n",
       "      <th>2</th>\n",
       "      <td>81.100609</td>\n",
       "      <td>-25.613001</td>\n",
       "      <td>17.336512</td>\n",
       "      <td>-6.994570</td>\n",
       "      <td>12.810861</td>\n",
       "      <td>18.486980</td>\n",
       "      <td>1.986689</td>\n",
       "      <td>19.290066</td>\n",
       "      <td>6.005171</td>\n",
       "      <td>-22.251951</td>\n",
       "      <td>...</td>\n",
       "      <td>-3.830149</td>\n",
       "      <td>27.264063</td>\n",
       "      <td>21.407303</td>\n",
       "      <td>-0.084706</td>\n",
       "      <td>13.291741</td>\n",
       "      <td>65.754509</td>\n",
       "      <td>2.470584</td>\n",
       "      <td>24.564764</td>\n",
       "      <td>0</td>\n",
       "      <td>0</td>\n",
       "    </tr>\n",
       "    <tr>\n",
       "      <th>3</th>\n",
       "      <td>81.054001</td>\n",
       "      <td>-25.613001</td>\n",
       "      <td>17.336512</td>\n",
       "      <td>-7.039829</td>\n",
       "      <td>12.723045</td>\n",
       "      <td>18.314728</td>\n",
       "      <td>2.028570</td>\n",
       "      <td>19.338028</td>\n",
       "      <td>5.701196</td>\n",
       "      <td>-22.222904</td>\n",
       "      <td>...</td>\n",
       "      <td>-3.759222</td>\n",
       "      <td>27.264063</td>\n",
       "      <td>21.337051</td>\n",
       "      <td>-0.084706</td>\n",
       "      <td>13.291741</td>\n",
       "      <td>65.754509</td>\n",
       "      <td>2.470584</td>\n",
       "      <td>24.564764</td>\n",
       "      <td>0</td>\n",
       "      <td>0</td>\n",
       "    </tr>\n",
       "    <tr>\n",
       "      <th>4</th>\n",
       "      <td>81.007385</td>\n",
       "      <td>-25.613001</td>\n",
       "      <td>17.336512</td>\n",
       "      <td>-7.085087</td>\n",
       "      <td>12.635230</td>\n",
       "      <td>18.142475</td>\n",
       "      <td>2.070451</td>\n",
       "      <td>19.385988</td>\n",
       "      <td>5.397222</td>\n",
       "      <td>-22.193857</td>\n",
       "      <td>...</td>\n",
       "      <td>-3.688294</td>\n",
       "      <td>27.264063</td>\n",
       "      <td>21.266798</td>\n",
       "      <td>-0.084706</td>\n",
       "      <td>13.291741</td>\n",
       "      <td>65.754509</td>\n",
       "      <td>2.470584</td>\n",
       "      <td>24.564764</td>\n",
       "      <td>0</td>\n",
       "      <td>0</td>\n",
       "    </tr>\n",
       "  </tbody>\n",
       "</table>\n",
       "<p>5 rows × 24 columns</p>\n",
       "</div>"
      ],
      "text/plain": [
       "           0          1          2         3          4          5         6  \\\n",
       "0  81.193825 -25.613001  17.336512 -6.904053  12.986491  18.831488  1.902927   \n",
       "1  81.147217 -25.613001  17.336512 -6.949311  12.898676  18.659233  1.944808   \n",
       "2  81.100609 -25.613001  17.336512 -6.994570  12.810861  18.486980  1.986689   \n",
       "3  81.054001 -25.613001  17.336512 -7.039829  12.723045  18.314728  2.028570   \n",
       "4  81.007385 -25.613001  17.336512 -7.085087  12.635230  18.142475  2.070451   \n",
       "\n",
       "           7         8          9  ...        14         15         16  \\\n",
       "0  19.194145  6.613120 -22.310045  ... -3.972004  27.264063  21.547808   \n",
       "1  19.242105  6.309145 -22.280998  ... -3.901077  27.264063  21.477554   \n",
       "2  19.290066  6.005171 -22.251951  ... -3.830149  27.264063  21.407303   \n",
       "3  19.338028  5.701196 -22.222904  ... -3.759222  27.264063  21.337051   \n",
       "4  19.385988  5.397222 -22.193857  ... -3.688294  27.264063  21.266798   \n",
       "\n",
       "         17         18         19        20         21  stimulus  repetition  \n",
       "0 -0.084706  13.291741  65.754509  2.470584  24.564764         0           0  \n",
       "1 -0.084706  13.291741  65.754509  2.470584  24.564764         0           0  \n",
       "2 -0.084706  13.291741  65.754509  2.470584  24.564764         0           0  \n",
       "3 -0.084706  13.291741  65.754509  2.470584  24.564764         0           0  \n",
       "4 -0.084706  13.291741  65.754509  2.470584  24.564764         0           0  \n",
       "\n",
       "[5 rows x 24 columns]"
      ]
     },
     "execution_count": 56,
     "metadata": {},
     "output_type": "execute_result"
    }
   ],
   "source": [
    "subjects = range(1, 11)\n",
    "exercises = [1]\n",
    "root = './signatures_data/'\n",
    "df = pd.DataFrame([])\n",
    "for subject in subjects:\n",
    "    data_paths = [os.path.join(root, f\"s{subject}/S{subject}_E{exercise}_A1.mat\") for exercise in exercises]\n",
    "    cur_df = load_subject(data_paths, col='glove')\n",
    "    df = pd.concat([df, cur_df], ignore_index=True)\n",
    "df.head()"
   ]
  },
  {
   "cell_type": "code",
   "execution_count": 57,
   "metadata": {},
   "outputs": [],
   "source": [
    "repetitions = [1, 2, 3, 4, 5, 6]\n",
    "stims = [1, 3]\n",
    "train_windows = []\n",
    "test_windows = []\n",
    "for stimulus in stims:\n",
    "    for repetition in repetitions:\n",
    "        dbpth = DB5Path(df[(df.stimulus == stimulus) & (df.repetition == repetition)], stimulus, repetition)\n",
    "        if repetition in train_set:\n",
    "            train_windows += dbpth.get_windows(window_size=200, overlap=100)\n",
    "        elif repetition in test_set:\n",
    "            test_windows += dbpth.get_windows(window_size=200, overlap=100)\n",
    "train_x, train_y = splitxy(train_windows, [5,8,10], ['stimulus'])\n",
    "test_x, test_y = splitxy(test_windows, [5,8,10], ['stimulus'])"
   ]
  },
  {
   "cell_type": "code",
   "execution_count": 59,
   "metadata": {},
   "outputs": [
    {
     "data": {
      "text/plain": [
       "((692, 200, 3), (692, 1))"
      ]
     },
     "execution_count": 59,
     "metadata": {},
     "output_type": "execute_result"
    }
   ],
   "source": [
    "train_x.shape, train_y.shape"
   ]
  },
  {
   "cell_type": "code",
   "execution_count": 60,
   "metadata": {},
   "outputs": [
    {
     "name": "stderr",
     "output_type": "stream",
     "text": [
      "100%|██████████| 692/692 [01:06<00:00, 10.40it/s]\n",
      "100%|██████████| 336/336 [00:32<00:00, 10.46it/s]\n"
     ]
    }
   ],
   "source": [
    "train_signatures = []\n",
    "for window in tqdm(train_x):\n",
    "    train_signatures.append(compute_log_signature(window, depth=4))\n",
    "test_signatures = []\n",
    "for window in tqdm(test_x):\n",
    "    test_signatures.append(compute_log_signature(window, depth=4))\n",
    "train_signatures = np.array(train_signatures)\n",
    "test_signatures = np.array(test_signatures)"
   ]
  },
  {
   "cell_type": "code",
   "execution_count": 62,
   "metadata": {},
   "outputs": [
    {
     "data": {
      "text/plain": [
       "((692, 32), (336, 32))"
      ]
     },
     "execution_count": 62,
     "metadata": {},
     "output_type": "execute_result"
    }
   ],
   "source": [
    "train_signatures.shape, test_signatures.shape"
   ]
  },
  {
   "cell_type": "code",
   "execution_count": 65,
   "metadata": {},
   "outputs": [
    {
     "name": "stdout",
     "output_type": "stream",
     "text": [
      "training set accuracy: 0.8121387283236994\n"
     ]
    },
    {
     "name": "stderr",
     "output_type": "stream",
     "text": [
      "/home/alan/.miniconda3/envs/signatures/lib/python3.11/site-packages/sklearn/utils/validation.py:1143: DataConversionWarning: A column-vector y was passed when a 1d array was expected. Please change the shape of y to (n_samples, ), for example using ravel().\n",
      "  y = column_or_1d(y, warn=True)\n"
     ]
    }
   ],
   "source": [
    "classifier = svm.SVC()\n",
    "classifier.fit(train_signatures, train_y)\n",
    "print(\"training set accuracy:\", accuracy(classifier.predict(train_signatures), train_y))"
   ]
  },
  {
   "cell_type": "code",
   "execution_count": 66,
   "metadata": {},
   "outputs": [
    {
     "name": "stdout",
     "output_type": "stream",
     "text": [
      "testing set accuracy: 0.75\n"
     ]
    }
   ],
   "source": [
    "pred = classifier.predict(test_signatures)\n",
    "print(\"testing set accuracy:\", accuracy(pred, test_y))"
   ]
  },
  {
   "cell_type": "code",
   "execution_count": 67,
   "metadata": {},
   "outputs": [
    {
     "data": {
      "image/png": "[encoded data removed]",
      "text/plain": [
       "<Figure size 500x500 with 2 Axes>"
      ]
     },
     "metadata": {},
     "output_type": "display_data"
    }
   ],
   "source": [
    "cm = confusion_matrix(test_y, pred)\n",
    "fig = plt.figure(figsize=(5, 5))\n",
    "ax = fig.add_subplot(111)\n",
    "cm_display = ConfusionMatrixDisplay(cm, display_labels=stims).plot(ax=ax,xticks_rotation=\"vertical\")"
   ]
  },
  {
   "cell_type": "code",
   "execution_count": null,
   "metadata": {},
   "outputs": [],
   "source": []
  }
 ],
 "metadata": {
  "kernelspec": {
   "display_name": "signatures",
   "language": "python",
   "name": "python3"
  },
  "language_info": {
   "codemirror_mode": {
    "name": "ipython",
    "version": 3
   },
   "file_extension": ".py",
   "mimetype": "text/x-python",
   "name": "python",
   "nbconvert_exporter": "python",
   "pygments_lexer": "ipython3",
   "version": "3.11.0"
  },
  "orig_nbformat": 4,
  "vscode": {
   "interpreter": {
    "hash": "bb9cc3eca2c8231e981fb1e0f6b02032d6d746c99299a8ed51289e761cd494c2"
   }
  }
 },
 "nbformat": 4,
 "nbformat_minor": 2
}
