{
 "cells": [
  {
   "cell_type": "code",
   "execution_count": 1,
   "id": "6d8840ad",
   "metadata": {},
   "outputs": [],
   "source": [
    "import scipy.io as sio\n",
    "import pandas as pd\n",
    "import numpy as np\n",
    "import iisignature"
   ]
  },
  {
   "cell_type": "code",
   "execution_count": 5,
   "id": "0375b418",
   "metadata": {},
   "outputs": [],
   "source": [
    "test_data_path = 'signatures_data/DB1/S1_A1_E1.mat'\n",
    "\n",
    "mat = sio.loadmat(test_data_path)"
   ]
  },
  {
   "cell_type": "code",
   "execution_count": 8,
   "id": "d12f51e5",
   "metadata": {},
   "outputs": [
    {
     "data": {
      "text/plain": [
       "dict_keys(['__header__', '__version__', '__globals__', 'emg', 'stimulus', 'glove', 'subject', 'exercise', 'repetition', 'restimulus', 'rerepetition'])"
      ]
     },
     "execution_count": 8,
     "metadata": {},
     "output_type": "execute_result"
    }
   ],
   "source": [
    "mat.keys()"
   ]
  },
  {
   "cell_type": "code",
   "execution_count": 9,
   "id": "5b639efb",
   "metadata": {},
   "outputs": [
    {
     "data": {
      "text/plain": [
       "[0, 1, 2, 3, 4, 5, 6, 7, 8, 9, 10, 11, 12, 13, 14, 15, 16, 17, 18, 19, 20, 21]"
      ]
     },
     "execution_count": 9,
     "metadata": {},
     "output_type": "execute_result"
    }
   ],
   "source": [
    "data_emg = pd.DataFrame(mat['glove'])\n",
    "list(data_emg.columns)"
   ]
  }
 ],
 "metadata": {
  "kernelspec": {
   "display_name": "signatures",
   "language": "python",
   "name": "python3"
  },
  "language_info": {
   "codemirror_mode": {
    "name": "ipython",
    "version": 3
   },
   "file_extension": ".py",
   "mimetype": "text/x-python",
   "name": "python",
   "nbconvert_exporter": "python",
   "pygments_lexer": "ipython3",
   "version": "3.9.13"
  },
  "vscode": {
   "interpreter": {
    "hash": "db5e4df1ef0f7d3f2d17daa2c5e5422def0895369ffed74f285b3429798d990d"
   }
  }
 },
 "nbformat": 4,
 "nbformat_minor": 5
}
