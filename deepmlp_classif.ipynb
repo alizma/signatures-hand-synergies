{
 "cells": [
  {
   "cell_type": "code",
   "execution_count": 1,
   "metadata": {},
   "outputs": [],
   "source": [
    "import scipy.io as sio\n",
    "import pandas as pd\n",
    "import numpy as np\n",
    "from matplotlib import pyplot as plt\n",
    "import os\n",
    "\n",
    "import iisignature\n",
    "from tqdm import tqdm"
   ]
  },
  {
   "cell_type": "code",
   "execution_count": 2,
   "metadata": {},
   "outputs": [],
   "source": [
    "from normalizers import *\n",
    "\n",
    "class Path():\n",
    "    def __init__(self, vals, dims, reps=range(1, 7), norm_vals=True):\n",
    "        self.vals = vals.reset_index(drop=True, inplace=False)\n",
    "        self.dims = dims\n",
    "        if norm_vals:\n",
    "            self.vals = better_normalize(self.vals, reps, dims=self.dims)\n",
    "\n",
    "class DB5Path(Path):\n",
    "    def __init__(self, vals, exercise, repetition, dims=None):\n",
    "        if dims is None:\n",
    "            temp_dims = vals.shape[1] - 2\n",
    "        else:\n",
    "            temp_dims = dims\n",
    "        super().__init__(vals, temp_dims)\n",
    "        self.exercise = exercise\n",
    "        self.repetition = repetition\n",
    "    \n",
    "    def naive_padding(self, length) -> np.array:\n",
    "        tempdf = pd.DataFrame(np.random.standard_normal(size = (length, self.dims)))\n",
    "        tempdf['stimulus'] = pd.Series(np.ones(length) * self.exercise)\n",
    "        tempdf['repetition'] = pd.Series(np.ones(length) * self.repetition)\n",
    "        return tempdf\n",
    "    \n",
    "    def get_windows(self, window_size, overlap, use_padding=False) -> np.array:\n",
    "        \"\"\"\n",
    "        returns a list of dataframes\n",
    "        \"\"\"\n",
    "        begin = 0\n",
    "        ans = []\n",
    "        n = len(self.vals)\n",
    "        while(begin < n):\n",
    "            if (begin + window_size < n):\n",
    "                ans.append(self.vals[begin:begin + window_size])\n",
    "            else:\n",
    "                # need to pad it out\n",
    "                if use_padding:\n",
    "                    overflow = (n - begin) % window_size\n",
    "                    ans.append(pd.concat([self.vals[begin:], self.naive_padding(window_size - overflow)], ignore_index=True))\n",
    "                else:\n",
    "                    pass  # other option is to drop the last bit\n",
    "            begin += window_size - overlap\n",
    "        return ans\n"
   ]
  },
  {
   "cell_type": "code",
   "execution_count": 3,
   "metadata": {},
   "outputs": [],
   "source": [
    "def shift_stim(stims : pd.Series, shift : int):\n",
    "    # shifts all stimuli by an amount\n",
    "    stims[stims != 0] += shift\n",
    "    return stims\n",
    "\n",
    "def load_subject(data_paths, col='emg'):\n",
    "    df = pd.DataFrame([])\n",
    "    tot_stim = 0\n",
    "    for i, data_path in enumerate(data_paths):\n",
    "        mat = sio.loadmat(data_path)\n",
    "        if i == 0:\n",
    "            df = pd.DataFrame(mat[col])\n",
    "            df['stimulus'] = mat['restimulus']\n",
    "            df['repetition'] = mat['repetition']\n",
    "        else:\n",
    "            df2 = pd.DataFrame(mat[col])\n",
    "            df2['stimulus'] = shift_stim(pd.DataFrame(mat['restimulus']), tot_stim)\n",
    "            df2['repetition'] = mat['repetition']\n",
    "            df = pd.concat([df, df2], ignore_index=True)\n",
    "        tot_stim += len(np.unique(mat['restimulus'])) - 1\n",
    "    return df"
   ]
  },
  {
   "cell_type": "code",
   "execution_count": 4,
   "metadata": {},
   "outputs": [
    {
     "data": {
      "text/html": [
       "<div>\n",
       "<style scoped>\n",
       "    .dataframe tbody tr th:only-of-type {\n",
       "        vertical-align: middle;\n",
       "    }\n",
       "\n",
       "    .dataframe tbody tr th {\n",
       "        vertical-align: top;\n",
       "    }\n",
       "\n",
       "    .dataframe thead th {\n",
       "        text-align: right;\n",
       "    }\n",
       "</style>\n",
       "<table border=\"1\" class=\"dataframe\">\n",
       "  <thead>\n",
       "    <tr style=\"text-align: right;\">\n",
       "      <th></th>\n",
       "      <th>0</th>\n",
       "      <th>1</th>\n",
       "      <th>2</th>\n",
       "      <th>3</th>\n",
       "      <th>4</th>\n",
       "      <th>5</th>\n",
       "      <th>6</th>\n",
       "      <th>7</th>\n",
       "      <th>8</th>\n",
       "      <th>9</th>\n",
       "      <th>...</th>\n",
       "      <th>14</th>\n",
       "      <th>15</th>\n",
       "      <th>16</th>\n",
       "      <th>17</th>\n",
       "      <th>18</th>\n",
       "      <th>19</th>\n",
       "      <th>20</th>\n",
       "      <th>21</th>\n",
       "      <th>stimulus</th>\n",
       "      <th>repetition</th>\n",
       "    </tr>\n",
       "  </thead>\n",
       "  <tbody>\n",
       "    <tr>\n",
       "      <th>0</th>\n",
       "      <td>81.193825</td>\n",
       "      <td>-25.613001</td>\n",
       "      <td>17.336512</td>\n",
       "      <td>-6.904053</td>\n",
       "      <td>12.986491</td>\n",
       "      <td>18.831488</td>\n",
       "      <td>1.902927</td>\n",
       "      <td>19.194145</td>\n",
       "      <td>6.613120</td>\n",
       "      <td>-22.310045</td>\n",
       "      <td>...</td>\n",
       "      <td>-3.972004</td>\n",
       "      <td>27.264063</td>\n",
       "      <td>21.547808</td>\n",
       "      <td>-0.084706</td>\n",
       "      <td>13.291741</td>\n",
       "      <td>65.754509</td>\n",
       "      <td>2.470584</td>\n",
       "      <td>24.564764</td>\n",
       "      <td>0</td>\n",
       "      <td>0</td>\n",
       "    </tr>\n",
       "    <tr>\n",
       "      <th>1</th>\n",
       "      <td>81.147217</td>\n",
       "      <td>-25.613001</td>\n",
       "      <td>17.336512</td>\n",
       "      <td>-6.949311</td>\n",
       "      <td>12.898676</td>\n",
       "      <td>18.659233</td>\n",
       "      <td>1.944808</td>\n",
       "      <td>19.242105</td>\n",
       "      <td>6.309145</td>\n",
       "      <td>-22.280998</td>\n",
       "      <td>...</td>\n",
       "      <td>-3.901077</td>\n",
       "      <td>27.264063</td>\n",
       "      <td>21.477554</td>\n",
       "      <td>-0.084706</td>\n",
       "      <td>13.291741</td>\n",
       "      <td>65.754509</td>\n",
       "      <td>2.470584</td>\n",
       "      <td>24.564764</td>\n",
       "      <td>0</td>\n",
       "      <td>0</td>\n",
       "    </tr>\n",
       "    <tr>\n",
       "      <th>2</th>\n",
       "      <td>81.100609</td>\n",
       "      <td>-25.613001</td>\n",
       "      <td>17.336512</td>\n",
       "      <td>-6.994570</td>\n",
       "      <td>12.810861</td>\n",
       "      <td>18.486980</td>\n",
       "      <td>1.986689</td>\n",
       "      <td>19.290066</td>\n",
       "      <td>6.005171</td>\n",
       "      <td>-22.251951</td>\n",
       "      <td>...</td>\n",
       "      <td>-3.830149</td>\n",
       "      <td>27.264063</td>\n",
       "      <td>21.407303</td>\n",
       "      <td>-0.084706</td>\n",
       "      <td>13.291741</td>\n",
       "      <td>65.754509</td>\n",
       "      <td>2.470584</td>\n",
       "      <td>24.564764</td>\n",
       "      <td>0</td>\n",
       "      <td>0</td>\n",
       "    </tr>\n",
       "    <tr>\n",
       "      <th>3</th>\n",
       "      <td>81.054001</td>\n",
       "      <td>-25.613001</td>\n",
       "      <td>17.336512</td>\n",
       "      <td>-7.039829</td>\n",
       "      <td>12.723045</td>\n",
       "      <td>18.314728</td>\n",
       "      <td>2.028570</td>\n",
       "      <td>19.338028</td>\n",
       "      <td>5.701196</td>\n",
       "      <td>-22.222904</td>\n",
       "      <td>...</td>\n",
       "      <td>-3.759222</td>\n",
       "      <td>27.264063</td>\n",
       "      <td>21.337051</td>\n",
       "      <td>-0.084706</td>\n",
       "      <td>13.291741</td>\n",
       "      <td>65.754509</td>\n",
       "      <td>2.470584</td>\n",
       "      <td>24.564764</td>\n",
       "      <td>0</td>\n",
       "      <td>0</td>\n",
       "    </tr>\n",
       "    <tr>\n",
       "      <th>4</th>\n",
       "      <td>81.007385</td>\n",
       "      <td>-25.613001</td>\n",
       "      <td>17.336512</td>\n",
       "      <td>-7.085087</td>\n",
       "      <td>12.635230</td>\n",
       "      <td>18.142475</td>\n",
       "      <td>2.070451</td>\n",
       "      <td>19.385988</td>\n",
       "      <td>5.397222</td>\n",
       "      <td>-22.193857</td>\n",
       "      <td>...</td>\n",
       "      <td>-3.688294</td>\n",
       "      <td>27.264063</td>\n",
       "      <td>21.266798</td>\n",
       "      <td>-0.084706</td>\n",
       "      <td>13.291741</td>\n",
       "      <td>65.754509</td>\n",
       "      <td>2.470584</td>\n",
       "      <td>24.564764</td>\n",
       "      <td>0</td>\n",
       "      <td>0</td>\n",
       "    </tr>\n",
       "  </tbody>\n",
       "</table>\n",
       "<p>5 rows × 24 columns</p>\n",
       "</div>"
      ],
      "text/plain": [
       "           0          1          2         3          4          5         6  \\\n",
       "0  81.193825 -25.613001  17.336512 -6.904053  12.986491  18.831488  1.902927   \n",
       "1  81.147217 -25.613001  17.336512 -6.949311  12.898676  18.659233  1.944808   \n",
       "2  81.100609 -25.613001  17.336512 -6.994570  12.810861  18.486980  1.986689   \n",
       "3  81.054001 -25.613001  17.336512 -7.039829  12.723045  18.314728  2.028570   \n",
       "4  81.007385 -25.613001  17.336512 -7.085087  12.635230  18.142475  2.070451   \n",
       "\n",
       "           7         8          9  ...        14         15         16  \\\n",
       "0  19.194145  6.613120 -22.310045  ... -3.972004  27.264063  21.547808   \n",
       "1  19.242105  6.309145 -22.280998  ... -3.901077  27.264063  21.477554   \n",
       "2  19.290066  6.005171 -22.251951  ... -3.830149  27.264063  21.407303   \n",
       "3  19.338028  5.701196 -22.222904  ... -3.759222  27.264063  21.337051   \n",
       "4  19.385988  5.397222 -22.193857  ... -3.688294  27.264063  21.266798   \n",
       "\n",
       "         17         18         19        20         21  stimulus  repetition  \n",
       "0 -0.084706  13.291741  65.754509  2.470584  24.564764         0           0  \n",
       "1 -0.084706  13.291741  65.754509  2.470584  24.564764         0           0  \n",
       "2 -0.084706  13.291741  65.754509  2.470584  24.564764         0           0  \n",
       "3 -0.084706  13.291741  65.754509  2.470584  24.564764         0           0  \n",
       "4 -0.084706  13.291741  65.754509  2.470584  24.564764         0           0  \n",
       "\n",
       "[5 rows x 24 columns]"
      ]
     },
     "execution_count": 4,
     "metadata": {},
     "output_type": "execute_result"
    }
   ],
   "source": [
    "subjects = range(1, 11)\n",
    "exercises = [1]\n",
    "root = './signatures_data/'\n",
    "df = pd.DataFrame([])\n",
    "for subject in subjects:\n",
    "    data_paths = [os.path.join(root, f\"s{subject}/S{subject}_E{exercise}_A1.mat\") for exercise in exercises]\n",
    "    cur_df = load_subject(data_paths, col='glove')\n",
    "    df = pd.concat([df, cur_df], ignore_index=True)\n",
    "df.head()"
   ]
  },
  {
   "cell_type": "code",
   "execution_count": 5,
   "metadata": {},
   "outputs": [],
   "source": [
    "def compute_log_signature(path, depth, dims=None):\n",
    "    if dims is None:\n",
    "        dims = path.shape[1] # take second, assumes (timesteps, dims)\n",
    "    s = iisignature.prepare(dims, depth)\n",
    "    return iisignature.logsig(path, s)"
   ]
  },
  {
   "cell_type": "code",
   "execution_count": 8,
   "metadata": {},
   "outputs": [],
   "source": [
    "repetitions = [1, 2, 3, 4, 5, 6]\n",
    "stims = [1, 3]\n",
    "train_set = [1, 3, 4, 6]\n",
    "test_set = [2, 5]\n",
    "train_windows = []\n",
    "test_windows = []\n",
    "for stimulus in stims:\n",
    "    for repetition in repetitions:\n",
    "        dbpth = DB5Path(df[(df.stimulus == stimulus) & (df.repetition == repetition)], stimulus, repetition)\n",
    "        if repetition in train_set:\n",
    "            train_windows += dbpth.get_windows(window_size=200, overlap=100)\n",
    "        elif repetition in test_set:\n",
    "            test_windows += dbpth.get_windows(window_size=200, overlap=100)\n",
    "train_x, train_y = splitxy(train_windows, [5,8,10], ['stimulus'])\n",
    "test_x, test_y = splitxy(test_windows, [5,8,10], ['stimulus'])"
   ]
  },
  {
   "cell_type": "code",
   "execution_count": 9,
   "metadata": {},
   "outputs": [
    {
     "data": {
      "text/plain": [
       "(692, 336, (692, 200, 3), (692,))"
      ]
     },
     "execution_count": 9,
     "metadata": {},
     "output_type": "execute_result"
    }
   ],
   "source": [
    "len(train_windows), len(test_windows), train_x.shape, train_y.shape\n"
   ]
  },
  {
   "cell_type": "code",
   "execution_count": 10,
   "metadata": {},
   "outputs": [
    {
     "name": "stderr",
     "output_type": "stream",
     "text": [
      "100%|██████████| 692/692 [00:58<00:00, 11.77it/s]\n",
      "100%|██████████| 336/336 [00:28<00:00, 11.83it/s]\n"
     ]
    }
   ],
   "source": [
    "def splitxy(dfs : list, x_cols, y_col):\n",
    "    x = []\n",
    "    y = []\n",
    "    for df in dfs:\n",
    "        x.append(df[x_cols].to_numpy())\n",
    "        y.append(df[y_col].to_numpy()[0]) # assume everything is of the same class\n",
    "    return np.array(x), np.array(y).reshape(-1)\n",
    "\n",
    "train_x, train_y = splitxy(train_windows, range(16), ['stimulus'])\n",
    "test_x, test_y = splitxy(test_windows, range(16), ['stimulus'])\n",
    "\n",
    "train_signatures = []\n",
    "for window in tqdm(train_x):\n",
    "    train_signatures.append(compute_log_signature(window, depth=4))\n",
    "test_signatures = []\n",
    "for window in tqdm(test_x):\n",
    "    test_signatures.append(compute_log_signature(window, depth=4))\n",
    "train_signatures = np.array(train_signatures)\n",
    "test_signatures = np.array(test_signatures)"
   ]
  },
  {
   "cell_type": "code",
   "execution_count": 11,
   "metadata": {},
   "outputs": [],
   "source": [
    "def accuracy(pred, true):\n",
    "    assert len(pred) == len(true), \"check lengths match\"\n",
    "    return np.sum((pred == true)) / len(pred)\n",
    "\n",
    "assert accuracy(np.array([1, 1, 1, 2]), np.array([1, 2, 1, 2])) == 0.75"
   ]
  },
  {
   "cell_type": "code",
   "execution_count": 12,
   "metadata": {},
   "outputs": [
    {
     "name": "stdout",
     "output_type": "stream",
     "text": [
      "(692, 17816) (692,)\n",
      "(336, 17816) (336,)\n"
     ]
    }
   ],
   "source": [
    "print(train_signatures.shape, train_y.shape)\n",
    "print(test_signatures.shape, test_y.shape)"
   ]
  },
  {
   "cell_type": "code",
   "execution_count": 11,
   "metadata": {},
   "outputs": [
    {
     "data": {
      "text/plain": [
       "(array([ 0.15287352, -0.15799403,  0.0984855 ,  0.068694  ,  0.80948655,\n",
       "         1.84939927,  0.39183229,  0.05124822, -0.09199243,  0.33404976]),\n",
       " 1)"
      ]
     },
     "execution_count": 11,
     "metadata": {},
     "output_type": "execute_result"
    }
   ],
   "source": [
    "train_signatures[0, :10], train_y[0]"
   ]
  },
  {
   "cell_type": "code",
   "execution_count": 16,
   "metadata": {},
   "outputs": [],
   "source": [
    "from sklearn.neural_network import MLPClassifier"
   ]
  },
  {
   "cell_type": "code",
   "execution_count": 75,
   "metadata": {},
   "outputs": [
    {
     "data": {
      "text/html": [
       "<style>#sk-container-id-16 {color: black;background-color: white;}#sk-container-id-16 pre{padding: 0;}#sk-container-id-16 div.sk-toggleable {background-color: white;}#sk-container-id-16 label.sk-toggleable__label {cursor: pointer;display: block;width: 100%;margin-bottom: 0;padding: 0.3em;box-sizing: border-box;text-align: center;}#sk-container-id-16 label.sk-toggleable__label-arrow:before {content: \"▸\";float: left;margin-right: 0.25em;color: #696969;}#sk-container-id-16 label.sk-toggleable__label-arrow:hover:before {color: black;}#sk-container-id-16 div.sk-estimator:hover label.sk-toggleable__label-arrow:before {color: black;}#sk-container-id-16 div.sk-toggleable__content {max-height: 0;max-width: 0;overflow: hidden;text-align: left;background-color: #f0f8ff;}#sk-container-id-16 div.sk-toggleable__content pre {margin: 0.2em;color: black;border-radius: 0.25em;background-color: #f0f8ff;}#sk-container-id-16 input.sk-toggleable__control:checked~div.sk-toggleable__content {max-height: 200px;max-width: 100%;overflow: auto;}#sk-container-id-16 input.sk-toggleable__control:checked~label.sk-toggleable__label-arrow:before {content: \"▾\";}#sk-container-id-16 div.sk-estimator input.sk-toggleable__control:checked~label.sk-toggleable__label {background-color: #d4ebff;}#sk-container-id-16 div.sk-label input.sk-toggleable__control:checked~label.sk-toggleable__label {background-color: #d4ebff;}#sk-container-id-16 input.sk-hidden--visually {border: 0;clip: rect(1px 1px 1px 1px);clip: rect(1px, 1px, 1px, 1px);height: 1px;margin: -1px;overflow: hidden;padding: 0;position: absolute;width: 1px;}#sk-container-id-16 div.sk-estimator {font-family: monospace;background-color: #f0f8ff;border: 1px dotted black;border-radius: 0.25em;box-sizing: border-box;margin-bottom: 0.5em;}#sk-container-id-16 div.sk-estimator:hover {background-color: #d4ebff;}#sk-container-id-16 div.sk-parallel-item::after {content: \"\";width: 100%;border-bottom: 1px solid gray;flex-grow: 1;}#sk-container-id-16 div.sk-label:hover label.sk-toggleable__label {background-color: #d4ebff;}#sk-container-id-16 div.sk-serial::before {content: \"\";position: absolute;border-left: 1px solid gray;box-sizing: border-box;top: 0;bottom: 0;left: 50%;z-index: 0;}#sk-container-id-16 div.sk-serial {display: flex;flex-direction: column;align-items: center;background-color: white;padding-right: 0.2em;padding-left: 0.2em;position: relative;}#sk-container-id-16 div.sk-item {position: relative;z-index: 1;}#sk-container-id-16 div.sk-parallel {display: flex;align-items: stretch;justify-content: center;background-color: white;position: relative;}#sk-container-id-16 div.sk-item::before, #sk-container-id-16 div.sk-parallel-item::before {content: \"\";position: absolute;border-left: 1px solid gray;box-sizing: border-box;top: 0;bottom: 0;left: 50%;z-index: -1;}#sk-container-id-16 div.sk-parallel-item {display: flex;flex-direction: column;z-index: 1;position: relative;background-color: white;}#sk-container-id-16 div.sk-parallel-item:first-child::after {align-self: flex-end;width: 50%;}#sk-container-id-16 div.sk-parallel-item:last-child::after {align-self: flex-start;width: 50%;}#sk-container-id-16 div.sk-parallel-item:only-child::after {width: 0;}#sk-container-id-16 div.sk-dashed-wrapped {border: 1px dashed gray;margin: 0 0.4em 0.5em 0.4em;box-sizing: border-box;padding-bottom: 0.4em;background-color: white;}#sk-container-id-16 div.sk-label label {font-family: monospace;font-weight: bold;display: inline-block;line-height: 1.2em;}#sk-container-id-16 div.sk-label-container {text-align: center;}#sk-container-id-16 div.sk-container {/* jupyter's `normalize.less` sets `[hidden] { display: none; }` but bootstrap.min.css set `[hidden] { display: none !important; }` so we also need the `!important` here to be able to override the default hidden behavior on the sphinx rendered scikit-learn.org. See: https://github.com/scikit-learn/scikit-learn/issues/21755 */display: inline-block !important;position: relative;}#sk-container-id-16 div.sk-text-repr-fallback {display: none;}</style><div id=\"sk-container-id-16\" class=\"sk-top-container\"><div class=\"sk-text-repr-fallback\"><pre>MLPClassifier(alpha=0.001, early_stopping=True, hidden_layer_sizes=[50, 50],\n",
       "              max_iter=2000, random_state=1, solver=&#x27;lbfgs&#x27;, warm_start=True)</pre><b>In a Jupyter environment, please rerun this cell to show the HTML representation or trust the notebook. <br />On GitHub, the HTML representation is unable to render, please try loading this page with nbviewer.org.</b></div><div class=\"sk-container\" hidden><div class=\"sk-item\"><div class=\"sk-estimator sk-toggleable\"><input class=\"sk-toggleable__control sk-hidden--visually\" id=\"sk-estimator-id-16\" type=\"checkbox\" checked><label for=\"sk-estimator-id-16\" class=\"sk-toggleable__label sk-toggleable__label-arrow\">MLPClassifier</label><div class=\"sk-toggleable__content\"><pre>MLPClassifier(alpha=0.001, early_stopping=True, hidden_layer_sizes=[50, 50],\n",
       "              max_iter=2000, random_state=1, solver=&#x27;lbfgs&#x27;, warm_start=True)</pre></div></div></div></div></div>"
      ],
      "text/plain": [
       "MLPClassifier(alpha=0.001, early_stopping=True, hidden_layer_sizes=[50, 50],\n",
       "              max_iter=2000, random_state=1, solver='lbfgs', warm_start=True)"
      ]
     },
     "execution_count": 75,
     "metadata": {},
     "output_type": "execute_result"
    }
   ],
   "source": [
    "mlp = MLPClassifier(                \n",
    "                solver=\"lbfgs\",\n",
    "                random_state=1,\n",
    "                max_iter=2000,\n",
    "                early_stopping=True,\n",
    "                alpha=1e-3,\n",
    "                hidden_layer_sizes=[50, 50,], warm_start=True)\n",
    "\n",
    "mlp.fit(train_signatures, train_y)"
   ]
  },
  {
   "cell_type": "code",
   "execution_count": 76,
   "metadata": {},
   "outputs": [
    {
     "name": "stdout",
     "output_type": "stream",
     "text": [
      "training set accuracy: 0.9985549132947977\n"
     ]
    }
   ],
   "source": [
    "train_pred = mlp.predict(train_signatures)\n",
    "print(\"training set accuracy:\", accuracy(train_pred, train_y))"
   ]
  },
  {
   "cell_type": "code",
   "execution_count": 77,
   "metadata": {},
   "outputs": [
    {
     "data": {
      "text/plain": [
       "0.8869047619047619"
      ]
     },
     "execution_count": 77,
     "metadata": {},
     "output_type": "execute_result"
    }
   ],
   "source": [
    "pred = mlp.predict(test_signatures)\n",
    "accuracy(pred, test_y)"
   ]
  },
  {
   "cell_type": "code",
   "execution_count": 63,
   "metadata": {},
   "outputs": [
    {
     "data": {
      "image/png": "[encoded data removed]",
      "text/plain": [
       "<Figure size 500x500 with 2 Axes>"
      ]
     },
     "metadata": {},
     "output_type": "display_data"
    }
   ],
   "source": [
    "from sklearn.metrics import confusion_matrix, ConfusionMatrixDisplay\n",
    "cm = confusion_matrix(test_y, pred)\n",
    "fig = plt.figure(figsize=(5, 5))\n",
    "ax = fig.add_subplot(111)\n",
    "cm_display = ConfusionMatrixDisplay(cm,\n",
    "                                    display_labels=stims).plot(ax=ax,\n",
    "                                                                       xticks_rotation=\"vertical\")"
   ]
  },
  {
   "cell_type": "code",
   "execution_count": 14,
   "metadata": {},
   "outputs": [
    {
     "name": "stdout",
     "output_type": "stream",
     "text": [
      "Device: cuda:0\n"
     ]
    }
   ],
   "source": [
    "import torch \n",
    "\n",
    "torch.manual_seed(0)\n",
    "if torch.cuda.is_available():\n",
    "    torch.cuda.manual_seed_all(0)\n",
    "\n",
    "device = torch.device(\"cuda:0\" if torch.cuda.is_available() else \"cpu\")\n",
    "print(\"Device:\", device)\n",
    "\n",
    "class LinearClassifierNet(torch.nn.Module):\n",
    "    def __init__(self, input_dim, output_dim):\n",
    "        torch.nn.Module.__init__(self)\n",
    "        self.linear1 = torch.nn.Linear(input_dim, 2048)\n",
    "        self.dropout1 = torch.nn.Dropout(0.5)\n",
    "        self.output = torch.nn.Linear(2048, output_dim)\n",
    "\n",
    "    def forward(self, x):\n",
    "        x = self.linear1(x)\n",
    "        x = self.dropout1(x)\n",
    "        x = self.output(x)\n",
    "        return x"
   ]
  },
  {
   "cell_type": "code",
   "execution_count": 15,
   "metadata": {},
   "outputs": [],
   "source": [
    "tsig, tlabel = torch.Tensor(train_signatures).to(device), torch.Tensor(train_y).to(device)\n"
   ]
  },
  {
   "cell_type": "code",
   "execution_count": 16,
   "metadata": {},
   "outputs": [
    {
     "name": "stderr",
     "output_type": "stream",
     "text": [
      "Epoch 0:   0%|          | 0/692 [00:00<?, ?it/s]"
     ]
    },
    {
     "name": "stdout",
     "output_type": "stream",
     "text": [
      "torch.Size([17816]) tensor(1, device='cuda:0')\n"
     ]
    },
    {
     "name": "stderr",
     "output_type": "stream",
     "text": [
      "                                                \r"
     ]
    },
    {
     "ename": "RuntimeError",
     "evalue": "CUDA error: CUBLAS_STATUS_ALLOC_FAILED when calling `cublasCreate(handle)`",
     "output_type": "error",
     "traceback": [
      "\u001b[0;31m---------------------------------------------------------------------------\u001b[0m",
      "\u001b[0;31mRuntimeError\u001b[0m                              Traceback (most recent call last)",
      "Cell \u001b[0;32mIn[16], line 20\u001b[0m\n\u001b[1;32m     18\u001b[0m output \u001b[39m=\u001b[39m model(inputs) \n\u001b[1;32m     19\u001b[0m loss \u001b[39m=\u001b[39m loss_fn(output, label) \n\u001b[0;32m---> 20\u001b[0m loss\u001b[39m.\u001b[39;49mbackward() \n\u001b[1;32m     21\u001b[0m optimizer\u001b[39m.\u001b[39mstep() \n\u001b[1;32m     22\u001b[0m c_loss \u001b[39m+\u001b[39m\u001b[39m=\u001b[39m loss\u001b[39m.\u001b[39mitem() \n",
      "File \u001b[0;32m~/miniconda3/envs/signatures/lib/python3.11/site-packages/torch/_tensor.py:488\u001b[0m, in \u001b[0;36mTensor.backward\u001b[0;34m(self, gradient, retain_graph, create_graph, inputs)\u001b[0m\n\u001b[1;32m    478\u001b[0m \u001b[39mif\u001b[39;00m has_torch_function_unary(\u001b[39mself\u001b[39m):\n\u001b[1;32m    479\u001b[0m     \u001b[39mreturn\u001b[39;00m handle_torch_function(\n\u001b[1;32m    480\u001b[0m         Tensor\u001b[39m.\u001b[39mbackward,\n\u001b[1;32m    481\u001b[0m         (\u001b[39mself\u001b[39m,),\n\u001b[0;32m   (...)\u001b[0m\n\u001b[1;32m    486\u001b[0m         inputs\u001b[39m=\u001b[39minputs,\n\u001b[1;32m    487\u001b[0m     )\n\u001b[0;32m--> 488\u001b[0m torch\u001b[39m.\u001b[39;49mautograd\u001b[39m.\u001b[39;49mbackward(\n\u001b[1;32m    489\u001b[0m     \u001b[39mself\u001b[39;49m, gradient, retain_graph, create_graph, inputs\u001b[39m=\u001b[39;49minputs\n\u001b[1;32m    490\u001b[0m )\n",
      "File \u001b[0;32m~/miniconda3/envs/signatures/lib/python3.11/site-packages/torch/autograd/__init__.py:197\u001b[0m, in \u001b[0;36mbackward\u001b[0;34m(tensors, grad_tensors, retain_graph, create_graph, grad_variables, inputs)\u001b[0m\n\u001b[1;32m    192\u001b[0m     retain_graph \u001b[39m=\u001b[39m create_graph\n\u001b[1;32m    194\u001b[0m \u001b[39m# The reason we repeat same the comment below is that\u001b[39;00m\n\u001b[1;32m    195\u001b[0m \u001b[39m# some Python versions print out the first line of a multi-line function\u001b[39;00m\n\u001b[1;32m    196\u001b[0m \u001b[39m# calls in the traceback and some print out the last line\u001b[39;00m\n\u001b[0;32m--> 197\u001b[0m Variable\u001b[39m.\u001b[39;49m_execution_engine\u001b[39m.\u001b[39;49mrun_backward(  \u001b[39m# Calls into the C++ engine to run the backward pass\u001b[39;49;00m\n\u001b[1;32m    198\u001b[0m     tensors, grad_tensors_, retain_graph, create_graph, inputs,\n\u001b[1;32m    199\u001b[0m     allow_unreachable\u001b[39m=\u001b[39;49m\u001b[39mTrue\u001b[39;49;00m, accumulate_grad\u001b[39m=\u001b[39;49m\u001b[39mTrue\u001b[39;49;00m)\n",
      "\u001b[0;31mRuntimeError\u001b[0m: CUDA error: CUBLAS_STATUS_ALLOC_FAILED when calling `cublasCreate(handle)`"
     ]
    },
    {
     "name": "stderr",
     "output_type": "stream",
     "text": [
      "../aten/src/ATen/native/cuda/Loss.cu:199: nll_loss_forward_reduce_cuda_kernel_1d: block: [0,0,0], thread: [0,0,0] Assertion `t >= 0 && t < n_classes` failed.\n"
     ]
    }
   ],
   "source": [
    "BATCH_SIZE = 8\n",
    "LR = 0.0001\n",
    "EPOCHS = 20\n",
    "\n",
    "model = LinearClassifierNet(input_dim=train_signatures.shape[1], output_dim=1).to(device) # go from signature item to corresponding label \n",
    "loss_fn = torch.nn.CrossEntropyLoss()\n",
    "optimizer = torch.optim.Adam(model.parameters(), lr=LR)\n",
    "\n",
    "for e in range(EPOCHS): \n",
    "    # train eval\n",
    "    model.train()\n",
    "    c_loss = 0.0 \n",
    "    for idx in tqdm(range(tsig.shape[0]), desc=f\"Epoch {e}\", leave=False): \n",
    "    #for i, data in tqdm(enumerate(tsig), desc=f\"Epoch {e}\", leave=False): \n",
    "        inputs, label = tsig[idx], tlabel[idx].to(dtype=torch.long)\n",
    "        print(inputs.shape, label)\n",
    "        optimizer.zero_grad() \n",
    "        output = model(inputs) \n",
    "        loss = loss_fn(output, label) \n",
    "        loss.backward() \n",
    "        optimizer.step() \n",
    "        c_loss += loss.item() \n",
    "    \n",
    "    print(f\"train loss: {c_loss}\")\n",
    "\n",
    "    # test eval \n",
    "    \n"
   ]
  },
  {
   "cell_type": "code",
   "execution_count": 22,
   "metadata": {},
   "outputs": [
    {
     "data": {
      "text/plain": [
       "torch.Size([17816])"
      ]
     },
     "execution_count": 22,
     "metadata": {},
     "output_type": "execute_result"
    }
   ],
   "source": [
    "tsig[0].shape"
   ]
  }
 ],
 "metadata": {
  "kernelspec": {
   "display_name": "signatures",
   "language": "python",
   "name": "python3"
  },
  "language_info": {
   "codemirror_mode": {
    "name": "ipython",
    "version": 3
   },
   "file_extension": ".py",
   "mimetype": "text/x-python",
   "name": "python",
   "nbconvert_exporter": "python",
   "pygments_lexer": "ipython3",
   "version": "3.11.0"
  },
  "orig_nbformat": 4
 },
 "nbformat": 4,
 "nbformat_minor": 2
}
