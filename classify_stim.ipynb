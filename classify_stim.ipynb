{
 "cells": [
  {
   "cell_type": "code",
   "execution_count": 1,
   "metadata": {},
   "outputs": [],
   "source": [
    "import scipy.io as sio\n",
    "import pandas as pd\n",
    "import numpy as np\n",
    "from matplotlib import pyplot as plt"
   ]
  },
  {
   "cell_type": "code",
   "execution_count": 2,
   "metadata": {},
   "outputs": [],
   "source": [
    "def shift_stim(stims : pd.Series, shift : int):\n",
    "    # shifts all stimuli by an amount\n",
    "    stims[stims != 0] += shift\n",
    "    return stims"
   ]
  },
  {
   "cell_type": "code",
   "execution_count": 3,
   "metadata": {},
   "outputs": [
    {
     "data": {
      "text/html": [
       "<div>\n",
       "<style scoped>\n",
       "    .dataframe tbody tr th:only-of-type {\n",
       "        vertical-align: middle;\n",
       "    }\n",
       "\n",
       "    .dataframe tbody tr th {\n",
       "        vertical-align: top;\n",
       "    }\n",
       "\n",
       "    .dataframe thead th {\n",
       "        text-align: right;\n",
       "    }\n",
       "</style>\n",
       "<table border=\"1\" class=\"dataframe\">\n",
       "  <thead>\n",
       "    <tr style=\"text-align: right;\">\n",
       "      <th></th>\n",
       "      <th>0</th>\n",
       "      <th>1</th>\n",
       "      <th>2</th>\n",
       "      <th>3</th>\n",
       "      <th>4</th>\n",
       "      <th>5</th>\n",
       "      <th>6</th>\n",
       "      <th>7</th>\n",
       "      <th>8</th>\n",
       "      <th>9</th>\n",
       "      <th>10</th>\n",
       "      <th>11</th>\n",
       "      <th>12</th>\n",
       "      <th>13</th>\n",
       "      <th>14</th>\n",
       "      <th>15</th>\n",
       "      <th>stimulus</th>\n",
       "      <th>repetition</th>\n",
       "    </tr>\n",
       "  </thead>\n",
       "  <tbody>\n",
       "    <tr>\n",
       "      <th>0</th>\n",
       "      <td>-20.0</td>\n",
       "      <td>7.0</td>\n",
       "      <td>-11.0</td>\n",
       "      <td>2.0</td>\n",
       "      <td>-6.0</td>\n",
       "      <td>1.0</td>\n",
       "      <td>-1.0</td>\n",
       "      <td>3.0</td>\n",
       "      <td>-3.0</td>\n",
       "      <td>-6.0</td>\n",
       "      <td>-1.0</td>\n",
       "      <td>0.0</td>\n",
       "      <td>2.0</td>\n",
       "      <td>-4.0</td>\n",
       "      <td>-14.0</td>\n",
       "      <td>-1.0</td>\n",
       "      <td>0</td>\n",
       "      <td>0</td>\n",
       "    </tr>\n",
       "    <tr>\n",
       "      <th>1</th>\n",
       "      <td>-8.0</td>\n",
       "      <td>-20.0</td>\n",
       "      <td>-27.0</td>\n",
       "      <td>-6.0</td>\n",
       "      <td>-7.0</td>\n",
       "      <td>6.0</td>\n",
       "      <td>5.0</td>\n",
       "      <td>-3.0</td>\n",
       "      <td>-7.0</td>\n",
       "      <td>-3.0</td>\n",
       "      <td>-6.0</td>\n",
       "      <td>-5.0</td>\n",
       "      <td>0.0</td>\n",
       "      <td>-7.0</td>\n",
       "      <td>2.0</td>\n",
       "      <td>-8.0</td>\n",
       "      <td>0</td>\n",
       "      <td>0</td>\n",
       "    </tr>\n",
       "    <tr>\n",
       "      <th>2</th>\n",
       "      <td>8.0</td>\n",
       "      <td>18.0</td>\n",
       "      <td>30.0</td>\n",
       "      <td>6.0</td>\n",
       "      <td>8.0</td>\n",
       "      <td>37.0</td>\n",
       "      <td>-45.0</td>\n",
       "      <td>-12.0</td>\n",
       "      <td>-5.0</td>\n",
       "      <td>-10.0</td>\n",
       "      <td>-2.0</td>\n",
       "      <td>1.0</td>\n",
       "      <td>7.0</td>\n",
       "      <td>6.0</td>\n",
       "      <td>-9.0</td>\n",
       "      <td>0.0</td>\n",
       "      <td>0</td>\n",
       "      <td>0</td>\n",
       "    </tr>\n",
       "    <tr>\n",
       "      <th>3</th>\n",
       "      <td>-4.0</td>\n",
       "      <td>-13.0</td>\n",
       "      <td>-4.0</td>\n",
       "      <td>-6.0</td>\n",
       "      <td>-5.0</td>\n",
       "      <td>-40.0</td>\n",
       "      <td>21.0</td>\n",
       "      <td>-9.0</td>\n",
       "      <td>17.0</td>\n",
       "      <td>14.0</td>\n",
       "      <td>-24.0</td>\n",
       "      <td>0.0</td>\n",
       "      <td>0.0</td>\n",
       "      <td>-16.0</td>\n",
       "      <td>-4.0</td>\n",
       "      <td>10.0</td>\n",
       "      <td>0</td>\n",
       "      <td>0</td>\n",
       "    </tr>\n",
       "    <tr>\n",
       "      <th>4</th>\n",
       "      <td>-5.0</td>\n",
       "      <td>3.0</td>\n",
       "      <td>5.0</td>\n",
       "      <td>-4.0</td>\n",
       "      <td>1.0</td>\n",
       "      <td>-8.0</td>\n",
       "      <td>-22.0</td>\n",
       "      <td>-9.0</td>\n",
       "      <td>-3.0</td>\n",
       "      <td>16.0</td>\n",
       "      <td>38.0</td>\n",
       "      <td>-4.0</td>\n",
       "      <td>-17.0</td>\n",
       "      <td>-5.0</td>\n",
       "      <td>-15.0</td>\n",
       "      <td>-9.0</td>\n",
       "      <td>0</td>\n",
       "      <td>0</td>\n",
       "    </tr>\n",
       "  </tbody>\n",
       "</table>\n",
       "</div>"
      ],
      "text/plain": [
       "      0     1     2    3    4     5     6     7     8     9    10   11    12  \\\n",
       "0 -20.0   7.0 -11.0  2.0 -6.0   1.0  -1.0   3.0  -3.0  -6.0  -1.0  0.0   2.0   \n",
       "1  -8.0 -20.0 -27.0 -6.0 -7.0   6.0   5.0  -3.0  -7.0  -3.0  -6.0 -5.0   0.0   \n",
       "2   8.0  18.0  30.0  6.0  8.0  37.0 -45.0 -12.0  -5.0 -10.0  -2.0  1.0   7.0   \n",
       "3  -4.0 -13.0  -4.0 -6.0 -5.0 -40.0  21.0  -9.0  17.0  14.0 -24.0  0.0   0.0   \n",
       "4  -5.0   3.0   5.0 -4.0  1.0  -8.0 -22.0  -9.0  -3.0  16.0  38.0 -4.0 -17.0   \n",
       "\n",
       "     13    14    15  stimulus  repetition  \n",
       "0  -4.0 -14.0  -1.0         0           0  \n",
       "1  -7.0   2.0  -8.0         0           0  \n",
       "2   6.0  -9.0   0.0         0           0  \n",
       "3 -16.0  -4.0  10.0         0           0  \n",
       "4  -5.0 -15.0  -9.0         0           0  "
      ]
     },
     "execution_count": 3,
     "metadata": {},
     "output_type": "execute_result"
    }
   ],
   "source": [
    "df = pd.DataFrame([])\n",
    "data_paths = ['../signatures_data/s1/S1_E2_A1.mat', '../signatures_data/s1/S1_E3_A1.mat']\n",
    "tot_stim = 0\n",
    "for i, data_path in enumerate(data_paths):\n",
    "    mat = sio.loadmat(data_path)\n",
    "    if i == 0:\n",
    "        df = pd.DataFrame(mat['emg'])\n",
    "        df['stimulus'] = mat['restimulus']\n",
    "        df['repetition'] = mat['repetition']\n",
    "    else:\n",
    "        df2 = pd.DataFrame(mat['emg'])\n",
    "        df2['stimulus'] = shift_stim(pd.DataFrame(mat['restimulus']), tot_stim)\n",
    "        df2['repetition'] = mat['repetition']\n",
    "        df = pd.concat([df, df2], ignore_index=True)\n",
    "    tot_stim += len(np.unique(mat['restimulus'])) - 1\n",
    "\n",
    "df.head()\n",
    "    "
   ]
  },
  {
   "cell_type": "code",
   "execution_count": 4,
   "metadata": {},
   "outputs": [
    {
     "data": {
      "text/plain": [
       "array([ 0,  1,  2,  3,  4,  5,  6,  7,  8,  9, 10, 11, 12, 13, 14, 15, 16,\n",
       "       17, 18, 19, 20, 21, 22, 23, 24, 25, 26, 27, 28, 29, 30, 31, 32, 33,\n",
       "       34, 35, 36, 37, 38, 39, 40], dtype=int8)"
      ]
     },
     "execution_count": 4,
     "metadata": {},
     "output_type": "execute_result"
    }
   ],
   "source": [
    "np.unique(df['stimulus'])"
   ]
  },
  {
   "cell_type": "code",
   "execution_count": 5,
   "metadata": {},
   "outputs": [],
   "source": [
    "from normalizers import StandardScaler"
   ]
  },
  {
   "cell_type": "code",
   "execution_count": 20,
   "metadata": {},
   "outputs": [],
   "source": [
    "train_set = [1, 3, 4, 6]\n",
    "test_set = [2, 5]"
   ]
  },
  {
   "cell_type": "code",
   "execution_count": 7,
   "metadata": {},
   "outputs": [
    {
     "data": {
      "text/html": [
       "<div>\n",
       "<style scoped>\n",
       "    .dataframe tbody tr th:only-of-type {\n",
       "        vertical-align: middle;\n",
       "    }\n",
       "\n",
       "    .dataframe tbody tr th {\n",
       "        vertical-align: top;\n",
       "    }\n",
       "\n",
       "    .dataframe thead th {\n",
       "        text-align: right;\n",
       "    }\n",
       "</style>\n",
       "<table border=\"1\" class=\"dataframe\">\n",
       "  <thead>\n",
       "    <tr style=\"text-align: right;\">\n",
       "      <th></th>\n",
       "      <th>0</th>\n",
       "      <th>1</th>\n",
       "      <th>2</th>\n",
       "      <th>3</th>\n",
       "      <th>4</th>\n",
       "      <th>5</th>\n",
       "      <th>6</th>\n",
       "      <th>7</th>\n",
       "      <th>8</th>\n",
       "      <th>9</th>\n",
       "      <th>10</th>\n",
       "      <th>11</th>\n",
       "      <th>12</th>\n",
       "      <th>13</th>\n",
       "      <th>14</th>\n",
       "      <th>15</th>\n",
       "      <th>stimulus</th>\n",
       "      <th>repetition</th>\n",
       "    </tr>\n",
       "  </thead>\n",
       "  <tbody>\n",
       "    <tr>\n",
       "      <th>10922</th>\n",
       "      <td>1.0</td>\n",
       "      <td>0.0</td>\n",
       "      <td>4.0</td>\n",
       "      <td>1.0</td>\n",
       "      <td>0.0</td>\n",
       "      <td>-1.0</td>\n",
       "      <td>-1.0</td>\n",
       "      <td>-3.0</td>\n",
       "      <td>-2.0</td>\n",
       "      <td>-2.0</td>\n",
       "      <td>0.0</td>\n",
       "      <td>-1.0</td>\n",
       "      <td>-1.0</td>\n",
       "      <td>-1.0</td>\n",
       "      <td>-3.0</td>\n",
       "      <td>-1.0</td>\n",
       "      <td>1</td>\n",
       "      <td>6</td>\n",
       "    </tr>\n",
       "    <tr>\n",
       "      <th>10923</th>\n",
       "      <td>0.0</td>\n",
       "      <td>0.0</td>\n",
       "      <td>-1.0</td>\n",
       "      <td>0.0</td>\n",
       "      <td>-1.0</td>\n",
       "      <td>-3.0</td>\n",
       "      <td>-4.0</td>\n",
       "      <td>-24.0</td>\n",
       "      <td>-1.0</td>\n",
       "      <td>-2.0</td>\n",
       "      <td>-2.0</td>\n",
       "      <td>-1.0</td>\n",
       "      <td>0.0</td>\n",
       "      <td>1.0</td>\n",
       "      <td>-1.0</td>\n",
       "      <td>-2.0</td>\n",
       "      <td>1</td>\n",
       "      <td>6</td>\n",
       "    </tr>\n",
       "    <tr>\n",
       "      <th>10924</th>\n",
       "      <td>7.0</td>\n",
       "      <td>-16.0</td>\n",
       "      <td>-3.0</td>\n",
       "      <td>-3.0</td>\n",
       "      <td>-1.0</td>\n",
       "      <td>-2.0</td>\n",
       "      <td>3.0</td>\n",
       "      <td>30.0</td>\n",
       "      <td>-1.0</td>\n",
       "      <td>-1.0</td>\n",
       "      <td>-2.0</td>\n",
       "      <td>-1.0</td>\n",
       "      <td>-1.0</td>\n",
       "      <td>-1.0</td>\n",
       "      <td>1.0</td>\n",
       "      <td>0.0</td>\n",
       "      <td>1</td>\n",
       "      <td>6</td>\n",
       "    </tr>\n",
       "    <tr>\n",
       "      <th>10925</th>\n",
       "      <td>-9.0</td>\n",
       "      <td>10.0</td>\n",
       "      <td>-1.0</td>\n",
       "      <td>-2.0</td>\n",
       "      <td>-3.0</td>\n",
       "      <td>-2.0</td>\n",
       "      <td>-3.0</td>\n",
       "      <td>-20.0</td>\n",
       "      <td>2.0</td>\n",
       "      <td>-1.0</td>\n",
       "      <td>-3.0</td>\n",
       "      <td>-1.0</td>\n",
       "      <td>0.0</td>\n",
       "      <td>2.0</td>\n",
       "      <td>3.0</td>\n",
       "      <td>1.0</td>\n",
       "      <td>1</td>\n",
       "      <td>6</td>\n",
       "    </tr>\n",
       "    <tr>\n",
       "      <th>10926</th>\n",
       "      <td>-2.0</td>\n",
       "      <td>6.0</td>\n",
       "      <td>3.0</td>\n",
       "      <td>2.0</td>\n",
       "      <td>2.0</td>\n",
       "      <td>-1.0</td>\n",
       "      <td>0.0</td>\n",
       "      <td>-5.0</td>\n",
       "      <td>1.0</td>\n",
       "      <td>1.0</td>\n",
       "      <td>-1.0</td>\n",
       "      <td>-1.0</td>\n",
       "      <td>-1.0</td>\n",
       "      <td>-2.0</td>\n",
       "      <td>0.0</td>\n",
       "      <td>0.0</td>\n",
       "      <td>1</td>\n",
       "      <td>6</td>\n",
       "    </tr>\n",
       "    <tr>\n",
       "      <th>...</th>\n",
       "      <td>...</td>\n",
       "      <td>...</td>\n",
       "      <td>...</td>\n",
       "      <td>...</td>\n",
       "      <td>...</td>\n",
       "      <td>...</td>\n",
       "      <td>...</td>\n",
       "      <td>...</td>\n",
       "      <td>...</td>\n",
       "      <td>...</td>\n",
       "      <td>...</td>\n",
       "      <td>...</td>\n",
       "      <td>...</td>\n",
       "      <td>...</td>\n",
       "      <td>...</td>\n",
       "      <td>...</td>\n",
       "      <td>...</td>\n",
       "      <td>...</td>\n",
       "    </tr>\n",
       "    <tr>\n",
       "      <th>11880</th>\n",
       "      <td>1.0</td>\n",
       "      <td>-12.0</td>\n",
       "      <td>3.0</td>\n",
       "      <td>-2.0</td>\n",
       "      <td>0.0</td>\n",
       "      <td>0.0</td>\n",
       "      <td>1.0</td>\n",
       "      <td>1.0</td>\n",
       "      <td>10.0</td>\n",
       "      <td>0.0</td>\n",
       "      <td>-1.0</td>\n",
       "      <td>0.0</td>\n",
       "      <td>-1.0</td>\n",
       "      <td>1.0</td>\n",
       "      <td>-3.0</td>\n",
       "      <td>-1.0</td>\n",
       "      <td>1</td>\n",
       "      <td>6</td>\n",
       "    </tr>\n",
       "    <tr>\n",
       "      <th>11881</th>\n",
       "      <td>16.0</td>\n",
       "      <td>48.0</td>\n",
       "      <td>4.0</td>\n",
       "      <td>3.0</td>\n",
       "      <td>-1.0</td>\n",
       "      <td>2.0</td>\n",
       "      <td>-2.0</td>\n",
       "      <td>-3.0</td>\n",
       "      <td>-5.0</td>\n",
       "      <td>-2.0</td>\n",
       "      <td>3.0</td>\n",
       "      <td>-1.0</td>\n",
       "      <td>4.0</td>\n",
       "      <td>1.0</td>\n",
       "      <td>0.0</td>\n",
       "      <td>-1.0</td>\n",
       "      <td>1</td>\n",
       "      <td>6</td>\n",
       "    </tr>\n",
       "    <tr>\n",
       "      <th>11882</th>\n",
       "      <td>-4.0</td>\n",
       "      <td>-9.0</td>\n",
       "      <td>-4.0</td>\n",
       "      <td>-1.0</td>\n",
       "      <td>-1.0</td>\n",
       "      <td>-2.0</td>\n",
       "      <td>-2.0</td>\n",
       "      <td>-1.0</td>\n",
       "      <td>3.0</td>\n",
       "      <td>-4.0</td>\n",
       "      <td>-3.0</td>\n",
       "      <td>-1.0</td>\n",
       "      <td>0.0</td>\n",
       "      <td>1.0</td>\n",
       "      <td>-2.0</td>\n",
       "      <td>-1.0</td>\n",
       "      <td>1</td>\n",
       "      <td>6</td>\n",
       "    </tr>\n",
       "    <tr>\n",
       "      <th>11883</th>\n",
       "      <td>14.0</td>\n",
       "      <td>-7.0</td>\n",
       "      <td>-1.0</td>\n",
       "      <td>-3.0</td>\n",
       "      <td>-3.0</td>\n",
       "      <td>-1.0</td>\n",
       "      <td>0.0</td>\n",
       "      <td>2.0</td>\n",
       "      <td>0.0</td>\n",
       "      <td>-3.0</td>\n",
       "      <td>-6.0</td>\n",
       "      <td>0.0</td>\n",
       "      <td>-1.0</td>\n",
       "      <td>-2.0</td>\n",
       "      <td>-1.0</td>\n",
       "      <td>1.0</td>\n",
       "      <td>1</td>\n",
       "      <td>6</td>\n",
       "    </tr>\n",
       "    <tr>\n",
       "      <th>11884</th>\n",
       "      <td>12.0</td>\n",
       "      <td>20.0</td>\n",
       "      <td>20.0</td>\n",
       "      <td>8.0</td>\n",
       "      <td>4.0</td>\n",
       "      <td>2.0</td>\n",
       "      <td>7.0</td>\n",
       "      <td>1.0</td>\n",
       "      <td>9.0</td>\n",
       "      <td>6.0</td>\n",
       "      <td>8.0</td>\n",
       "      <td>-4.0</td>\n",
       "      <td>1.0</td>\n",
       "      <td>0.0</td>\n",
       "      <td>-1.0</td>\n",
       "      <td>-4.0</td>\n",
       "      <td>1</td>\n",
       "      <td>6</td>\n",
       "    </tr>\n",
       "  </tbody>\n",
       "</table>\n",
       "<p>963 rows × 18 columns</p>\n",
       "</div>"
      ],
      "text/plain": [
       "          0     1     2    3    4    5    6     7     8    9   10   11   12  \\\n",
       "10922   1.0   0.0   4.0  1.0  0.0 -1.0 -1.0  -3.0  -2.0 -2.0  0.0 -1.0 -1.0   \n",
       "10923   0.0   0.0  -1.0  0.0 -1.0 -3.0 -4.0 -24.0  -1.0 -2.0 -2.0 -1.0  0.0   \n",
       "10924   7.0 -16.0  -3.0 -3.0 -1.0 -2.0  3.0  30.0  -1.0 -1.0 -2.0 -1.0 -1.0   \n",
       "10925  -9.0  10.0  -1.0 -2.0 -3.0 -2.0 -3.0 -20.0   2.0 -1.0 -3.0 -1.0  0.0   \n",
       "10926  -2.0   6.0   3.0  2.0  2.0 -1.0  0.0  -5.0   1.0  1.0 -1.0 -1.0 -1.0   \n",
       "...     ...   ...   ...  ...  ...  ...  ...   ...   ...  ...  ...  ...  ...   \n",
       "11880   1.0 -12.0   3.0 -2.0  0.0  0.0  1.0   1.0  10.0  0.0 -1.0  0.0 -1.0   \n",
       "11881  16.0  48.0   4.0  3.0 -1.0  2.0 -2.0  -3.0  -5.0 -2.0  3.0 -1.0  4.0   \n",
       "11882  -4.0  -9.0  -4.0 -1.0 -1.0 -2.0 -2.0  -1.0   3.0 -4.0 -3.0 -1.0  0.0   \n",
       "11883  14.0  -7.0  -1.0 -3.0 -3.0 -1.0  0.0   2.0   0.0 -3.0 -6.0  0.0 -1.0   \n",
       "11884  12.0  20.0  20.0  8.0  4.0  2.0  7.0   1.0   9.0  6.0  8.0 -4.0  1.0   \n",
       "\n",
       "        13   14   15  stimulus  repetition  \n",
       "10922 -1.0 -3.0 -1.0         1           6  \n",
       "10923  1.0 -1.0 -2.0         1           6  \n",
       "10924 -1.0  1.0  0.0         1           6  \n",
       "10925  2.0  3.0  1.0         1           6  \n",
       "10926 -2.0  0.0  0.0         1           6  \n",
       "...    ...  ...  ...       ...         ...  \n",
       "11880  1.0 -3.0 -1.0         1           6  \n",
       "11881  1.0  0.0 -1.0         1           6  \n",
       "11882  1.0 -2.0 -1.0         1           6  \n",
       "11883 -2.0 -1.0  1.0         1           6  \n",
       "11884  0.0 -1.0 -4.0         1           6  \n",
       "\n",
       "[963 rows x 18 columns]"
      ]
     },
     "execution_count": 7,
     "metadata": {},
     "output_type": "execute_result"
    }
   ],
   "source": [
    "df[(df.stimulus==1) & (df.repetition==6)]"
   ]
  },
  {
   "cell_type": "code",
   "execution_count": 51,
   "metadata": {},
   "outputs": [],
   "source": [
    "from normalizers import normalize\n",
    "import iisignature\n",
    "def compute_log_signature(path, depth, dims=None):\n",
    "    if dims is None:\n",
    "        dims = path.shape[1] # take second, assumes (timesteps, dims)\n",
    "    s = iisignature.prepare(dims, depth)\n",
    "    return iisignature.logsig(path, s)\n",
    "\n",
    "class Path():\n",
    "    def __init__(self, vals, reps=range(1, 7), norm_vals=True):\n",
    "        self.vals = vals.reset_index(drop=True, inplace=False)\n",
    "        if norm_vals:\n",
    "            self.vals = normalize(self.vals, reps)\n",
    "\n",
    "class DB5Path(Path):\n",
    "    def __init__(self, vals, exercise, repetition, dims=None):\n",
    "        super().__init__(vals)\n",
    "        self.exercise = exercise\n",
    "        self.repetition = repetition\n",
    "        if dims is None:\n",
    "            self.dims = vals.shape[1] - 2\n",
    "        else:\n",
    "            self.dims = dims\n",
    "    \n",
    "    def naive_padding(self, length) -> np.array:\n",
    "        tempdf = pd.DataFrame(np.random.standard_normal(size = (length, self.dims)))\n",
    "        tempdf['stimulus'] = pd.Series(np.ones(length) * self.exercise)\n",
    "        tempdf['repetition'] = pd.Series(np.ones(length) * self.repetition)\n",
    "        return tempdf\n",
    "    \n",
    "    def get_windows(self, window_size, overlap, use_padding=False) -> np.array:\n",
    "        \"\"\"\n",
    "        returns a list of dataframes\n",
    "        \"\"\"\n",
    "        begin = 0\n",
    "        ans = []\n",
    "        n = len(self.vals)\n",
    "        while(begin < n):\n",
    "            if (begin + window_size < n):\n",
    "                ans.append(self.vals[begin:begin + window_size])\n",
    "            else:\n",
    "                # need to pad it out\n",
    "                if use_padding:\n",
    "                    overflow = (n - begin) % window_size\n",
    "                    ans.append(pd.concat([self.vals[begin:], self.naive_padding(window_size - overflow)], ignore_index=True))\n",
    "                else:\n",
    "                    pass  # other option is to drop the last bit\n",
    "            begin += window_size - overlap\n",
    "        return ans\n"
   ]
  },
  {
   "cell_type": "code",
   "execution_count": 52,
   "metadata": {},
   "outputs": [],
   "source": [
    "stimulus = 1\n",
    "repetition = 6\n",
    "dbpth = DB5Path(df[(df.stimulus == stimulus) & (df.repetition == repetition)], stimulus, repetition)"
   ]
  },
  {
   "cell_type": "code",
   "execution_count": 53,
   "metadata": {},
   "outputs": [
    {
     "data": {
      "text/html": [
       "<div>\n",
       "<style scoped>\n",
       "    .dataframe tbody tr th:only-of-type {\n",
       "        vertical-align: middle;\n",
       "    }\n",
       "\n",
       "    .dataframe tbody tr th {\n",
       "        vertical-align: top;\n",
       "    }\n",
       "\n",
       "    .dataframe thead th {\n",
       "        text-align: right;\n",
       "    }\n",
       "</style>\n",
       "<table border=\"1\" class=\"dataframe\">\n",
       "  <thead>\n",
       "    <tr style=\"text-align: right;\">\n",
       "      <th></th>\n",
       "      <th>0</th>\n",
       "      <th>1</th>\n",
       "      <th>2</th>\n",
       "      <th>3</th>\n",
       "      <th>4</th>\n",
       "      <th>5</th>\n",
       "      <th>6</th>\n",
       "      <th>7</th>\n",
       "      <th>8</th>\n",
       "      <th>9</th>\n",
       "      <th>10</th>\n",
       "      <th>11</th>\n",
       "      <th>12</th>\n",
       "      <th>13</th>\n",
       "      <th>14</th>\n",
       "      <th>15</th>\n",
       "      <th>stimulus</th>\n",
       "      <th>repetition</th>\n",
       "    </tr>\n",
       "  </thead>\n",
       "  <tbody>\n",
       "    <tr>\n",
       "      <th>0</th>\n",
       "      <td>0.077548</td>\n",
       "      <td>0.041438</td>\n",
       "      <td>0.467218</td>\n",
       "      <td>0.482313</td>\n",
       "      <td>0.261318</td>\n",
       "      <td>-0.046611</td>\n",
       "      <td>-0.020667</td>\n",
       "      <td>-0.047810</td>\n",
       "      <td>-0.039871</td>\n",
       "      <td>-0.028218</td>\n",
       "      <td>0.069908</td>\n",
       "      <td>-0.005159</td>\n",
       "      <td>-0.002053</td>\n",
       "      <td>-0.001418</td>\n",
       "      <td>-0.125506</td>\n",
       "      <td>-0.000705</td>\n",
       "      <td>1</td>\n",
       "      <td>6</td>\n",
       "    </tr>\n",
       "    <tr>\n",
       "      <th>1</th>\n",
       "      <td>0.042071</td>\n",
       "      <td>0.041438</td>\n",
       "      <td>-0.013169</td>\n",
       "      <td>0.219159</td>\n",
       "      <td>-0.046322</td>\n",
       "      <td>-0.545344</td>\n",
       "      <td>-0.389227</td>\n",
       "      <td>-0.640613</td>\n",
       "      <td>0.001370</td>\n",
       "      <td>-0.028218</td>\n",
       "      <td>-0.065684</td>\n",
       "      <td>-0.005159</td>\n",
       "      <td>0.217669</td>\n",
       "      <td>0.271679</td>\n",
       "      <td>-0.000970</td>\n",
       "      <td>-0.043140</td>\n",
       "      <td>1</td>\n",
       "      <td>6</td>\n",
       "    </tr>\n",
       "    <tr>\n",
       "      <th>2</th>\n",
       "      <td>0.290407</td>\n",
       "      <td>-0.633480</td>\n",
       "      <td>-0.205324</td>\n",
       "      <td>-0.570305</td>\n",
       "      <td>-0.046322</td>\n",
       "      <td>-0.295977</td>\n",
       "      <td>0.470746</td>\n",
       "      <td>0.883737</td>\n",
       "      <td>0.001370</td>\n",
       "      <td>0.007027</td>\n",
       "      <td>-0.065684</td>\n",
       "      <td>-0.005159</td>\n",
       "      <td>-0.002053</td>\n",
       "      <td>-0.001418</td>\n",
       "      <td>0.123567</td>\n",
       "      <td>0.041730</td>\n",
       "      <td>1</td>\n",
       "      <td>6</td>\n",
       "    </tr>\n",
       "    <tr>\n",
       "      <th>3</th>\n",
       "      <td>-0.277219</td>\n",
       "      <td>0.463261</td>\n",
       "      <td>-0.013169</td>\n",
       "      <td>-0.307150</td>\n",
       "      <td>-0.661601</td>\n",
       "      <td>-0.295977</td>\n",
       "      <td>-0.266373</td>\n",
       "      <td>-0.527698</td>\n",
       "      <td>0.125096</td>\n",
       "      <td>0.007027</td>\n",
       "      <td>-0.133480</td>\n",
       "      <td>-0.005159</td>\n",
       "      <td>0.217669</td>\n",
       "      <td>0.408227</td>\n",
       "      <td>0.248103</td>\n",
       "      <td>0.084164</td>\n",
       "      <td>1</td>\n",
       "      <td>6</td>\n",
       "    </tr>\n",
       "    <tr>\n",
       "      <th>4</th>\n",
       "      <td>-0.028882</td>\n",
       "      <td>0.294532</td>\n",
       "      <td>0.371140</td>\n",
       "      <td>0.745468</td>\n",
       "      <td>0.876597</td>\n",
       "      <td>-0.046611</td>\n",
       "      <td>0.102186</td>\n",
       "      <td>-0.104267</td>\n",
       "      <td>0.083854</td>\n",
       "      <td>0.077517</td>\n",
       "      <td>0.002112</td>\n",
       "      <td>-0.005159</td>\n",
       "      <td>-0.002053</td>\n",
       "      <td>-0.137966</td>\n",
       "      <td>0.061298</td>\n",
       "      <td>0.041730</td>\n",
       "      <td>1</td>\n",
       "      <td>6</td>\n",
       "    </tr>\n",
       "  </tbody>\n",
       "</table>\n",
       "</div>"
      ],
      "text/plain": [
       "          0         1         2         3         4         5         6  \\\n",
       "0  0.077548  0.041438  0.467218  0.482313  0.261318 -0.046611 -0.020667   \n",
       "1  0.042071  0.041438 -0.013169  0.219159 -0.046322 -0.545344 -0.389227   \n",
       "2  0.290407 -0.633480 -0.205324 -0.570305 -0.046322 -0.295977  0.470746   \n",
       "3 -0.277219  0.463261 -0.013169 -0.307150 -0.661601 -0.295977 -0.266373   \n",
       "4 -0.028882  0.294532  0.371140  0.745468  0.876597 -0.046611  0.102186   \n",
       "\n",
       "          7         8         9        10        11        12        13  \\\n",
       "0 -0.047810 -0.039871 -0.028218  0.069908 -0.005159 -0.002053 -0.001418   \n",
       "1 -0.640613  0.001370 -0.028218 -0.065684 -0.005159  0.217669  0.271679   \n",
       "2  0.883737  0.001370  0.007027 -0.065684 -0.005159 -0.002053 -0.001418   \n",
       "3 -0.527698  0.125096  0.007027 -0.133480 -0.005159  0.217669  0.408227   \n",
       "4 -0.104267  0.083854  0.077517  0.002112 -0.005159 -0.002053 -0.137966   \n",
       "\n",
       "         14        15  stimulus  repetition  \n",
       "0 -0.125506 -0.000705         1           6  \n",
       "1 -0.000970 -0.043140         1           6  \n",
       "2  0.123567  0.041730         1           6  \n",
       "3  0.248103  0.084164         1           6  \n",
       "4  0.061298  0.041730         1           6  "
      ]
     },
     "execution_count": 53,
     "metadata": {},
     "output_type": "execute_result"
    }
   ],
   "source": [
    "dbpth.vals.head()"
   ]
  },
  {
   "cell_type": "code",
   "execution_count": 54,
   "metadata": {},
   "outputs": [
    {
     "data": {
      "text/plain": [
       "8"
      ]
     },
     "execution_count": 54,
     "metadata": {},
     "output_type": "execute_result"
    }
   ],
   "source": [
    "windows = dbpth.get_windows(window_size=200, overlap=100)\n",
    "len(windows)"
   ]
  },
  {
   "cell_type": "code",
   "execution_count": 55,
   "metadata": {},
   "outputs": [
    {
     "data": {
      "text/html": [
       "<div>\n",
       "<style scoped>\n",
       "    .dataframe tbody tr th:only-of-type {\n",
       "        vertical-align: middle;\n",
       "    }\n",
       "\n",
       "    .dataframe tbody tr th {\n",
       "        vertical-align: top;\n",
       "    }\n",
       "\n",
       "    .dataframe thead th {\n",
       "        text-align: right;\n",
       "    }\n",
       "</style>\n",
       "<table border=\"1\" class=\"dataframe\">\n",
       "  <thead>\n",
       "    <tr style=\"text-align: right;\">\n",
       "      <th></th>\n",
       "      <th>0</th>\n",
       "      <th>1</th>\n",
       "      <th>2</th>\n",
       "      <th>3</th>\n",
       "      <th>4</th>\n",
       "      <th>5</th>\n",
       "      <th>6</th>\n",
       "      <th>7</th>\n",
       "      <th>8</th>\n",
       "      <th>9</th>\n",
       "      <th>10</th>\n",
       "      <th>11</th>\n",
       "      <th>12</th>\n",
       "      <th>13</th>\n",
       "      <th>14</th>\n",
       "      <th>15</th>\n",
       "      <th>stimulus</th>\n",
       "      <th>repetition</th>\n",
       "    </tr>\n",
       "  </thead>\n",
       "  <tbody>\n",
       "    <tr>\n",
       "      <th>695</th>\n",
       "      <td>-0.206265</td>\n",
       "      <td>-0.211656</td>\n",
       "      <td>0.275063</td>\n",
       "      <td>1.271777</td>\n",
       "      <td>1.184237</td>\n",
       "      <td>1.200223</td>\n",
       "      <td>0.839306</td>\n",
       "      <td>0.347392</td>\n",
       "      <td>2.104707</td>\n",
       "      <td>0.782420</td>\n",
       "      <td>0.476683</td>\n",
       "      <td>0.392263</td>\n",
       "      <td>-0.221776</td>\n",
       "      <td>-0.274515</td>\n",
       "      <td>-0.250043</td>\n",
       "      <td>-0.467487</td>\n",
       "      <td>1</td>\n",
       "      <td>6</td>\n",
       "    </tr>\n",
       "    <tr>\n",
       "      <th>696</th>\n",
       "      <td>-0.028882</td>\n",
       "      <td>-0.085109</td>\n",
       "      <td>-0.013169</td>\n",
       "      <td>-0.833459</td>\n",
       "      <td>-0.661601</td>\n",
       "      <td>-0.545344</td>\n",
       "      <td>-0.512080</td>\n",
       "      <td>-1.515702</td>\n",
       "      <td>-3.586674</td>\n",
       "      <td>-0.098708</td>\n",
       "      <td>0.205500</td>\n",
       "      <td>0.590974</td>\n",
       "      <td>0.437392</td>\n",
       "      <td>-0.274515</td>\n",
       "      <td>-0.934993</td>\n",
       "      <td>-1.358617</td>\n",
       "      <td>1</td>\n",
       "      <td>6</td>\n",
       "    </tr>\n",
       "    <tr>\n",
       "      <th>697</th>\n",
       "      <td>0.183977</td>\n",
       "      <td>-0.042927</td>\n",
       "      <td>-0.205324</td>\n",
       "      <td>-0.307150</td>\n",
       "      <td>0.261318</td>\n",
       "      <td>-0.046611</td>\n",
       "      <td>-1.003493</td>\n",
       "      <td>-0.697070</td>\n",
       "      <td>0.207580</td>\n",
       "      <td>-0.063463</td>\n",
       "      <td>-0.133480</td>\n",
       "      <td>0.590974</td>\n",
       "      <td>0.657115</td>\n",
       "      <td>0.408227</td>\n",
       "      <td>-0.187775</td>\n",
       "      <td>-0.764530</td>\n",
       "      <td>1</td>\n",
       "      <td>6</td>\n",
       "    </tr>\n",
       "    <tr>\n",
       "      <th>698</th>\n",
       "      <td>-0.028882</td>\n",
       "      <td>0.167985</td>\n",
       "      <td>-0.397479</td>\n",
       "      <td>-0.307150</td>\n",
       "      <td>-0.046322</td>\n",
       "      <td>-0.794711</td>\n",
       "      <td>-0.020667</td>\n",
       "      <td>-0.245411</td>\n",
       "      <td>-0.163597</td>\n",
       "      <td>-0.274934</td>\n",
       "      <td>-0.404663</td>\n",
       "      <td>-0.203870</td>\n",
       "      <td>0.217669</td>\n",
       "      <td>0.817873</td>\n",
       "      <td>1.119858</td>\n",
       "      <td>0.678251</td>\n",
       "      <td>1</td>\n",
       "      <td>6</td>\n",
       "    </tr>\n",
       "    <tr>\n",
       "      <th>699</th>\n",
       "      <td>0.396837</td>\n",
       "      <td>-0.127292</td>\n",
       "      <td>-0.301402</td>\n",
       "      <td>-1.096614</td>\n",
       "      <td>-1.584520</td>\n",
       "      <td>-0.545344</td>\n",
       "      <td>0.470746</td>\n",
       "      <td>0.968423</td>\n",
       "      <td>0.166338</td>\n",
       "      <td>-1.931455</td>\n",
       "      <td>-1.557194</td>\n",
       "      <td>-1.197425</td>\n",
       "      <td>-1.100668</td>\n",
       "      <td>-0.684160</td>\n",
       "      <td>-0.499116</td>\n",
       "      <td>-0.425053</td>\n",
       "      <td>1</td>\n",
       "      <td>6</td>\n",
       "    </tr>\n",
       "  </tbody>\n",
       "</table>\n",
       "</div>"
      ],
      "text/plain": [
       "            0         1         2         3         4         5         6  \\\n",
       "695 -0.206265 -0.211656  0.275063  1.271777  1.184237  1.200223  0.839306   \n",
       "696 -0.028882 -0.085109 -0.013169 -0.833459 -0.661601 -0.545344 -0.512080   \n",
       "697  0.183977 -0.042927 -0.205324 -0.307150  0.261318 -0.046611 -1.003493   \n",
       "698 -0.028882  0.167985 -0.397479 -0.307150 -0.046322 -0.794711 -0.020667   \n",
       "699  0.396837 -0.127292 -0.301402 -1.096614 -1.584520 -0.545344  0.470746   \n",
       "\n",
       "            7         8         9        10        11        12        13  \\\n",
       "695  0.347392  2.104707  0.782420  0.476683  0.392263 -0.221776 -0.274515   \n",
       "696 -1.515702 -3.586674 -0.098708  0.205500  0.590974  0.437392 -0.274515   \n",
       "697 -0.697070  0.207580 -0.063463 -0.133480  0.590974  0.657115  0.408227   \n",
       "698 -0.245411 -0.163597 -0.274934 -0.404663 -0.203870  0.217669  0.817873   \n",
       "699  0.968423  0.166338 -1.931455 -1.557194 -1.197425 -1.100668 -0.684160   \n",
       "\n",
       "           14        15  stimulus  repetition  \n",
       "695 -0.250043 -0.467487         1           6  \n",
       "696 -0.934993 -1.358617         1           6  \n",
       "697 -0.187775 -0.764530         1           6  \n",
       "698  1.119858  0.678251         1           6  \n",
       "699 -0.499116 -0.425053         1           6  "
      ]
     },
     "execution_count": 55,
     "metadata": {},
     "output_type": "execute_result"
    }
   ],
   "source": [
    "windows[5].tail()"
   ]
  },
  {
   "cell_type": "code",
   "execution_count": 56,
   "metadata": {},
   "outputs": [
    {
     "data": {
      "image/png": "[encoded data removed]",
      "text/plain": [
       "<Figure size 640x480 with 1 Axes>"
      ]
     },
     "metadata": {},
     "output_type": "display_data"
    }
   ],
   "source": [
    "for i in range(5):\n",
    "    plt.plot(windows[0][i])"
   ]
  },
  {
   "cell_type": "code",
   "execution_count": 57,
   "metadata": {},
   "outputs": [],
   "source": [
    "repetitions = [1, 2, 3, 4, 5, 6]\n",
    "stims = [1, 28]\n",
    "train_windows = []\n",
    "test_windows = []\n",
    "for stimulus in stims:\n",
    "    for repetition in repetitions:\n",
    "        dbpth = DB5Path(df[(df.stimulus == stimulus) & (df.repetition == repetition)], stimulus, repetition)\n",
    "        if repetition in train_set:\n",
    "            train_windows += dbpth.get_windows(window_size=200, overlap=100)\n",
    "        elif repetition in test_set:\n",
    "            test_windows += dbpth.get_windows(window_size=200, overlap=100)"
   ]
  },
  {
   "cell_type": "code",
   "execution_count": 58,
   "metadata": {},
   "outputs": [
    {
     "data": {
      "text/plain": [
       "(56, 26)"
      ]
     },
     "execution_count": 58,
     "metadata": {},
     "output_type": "execute_result"
    }
   ],
   "source": [
    "len(train_windows), len(test_windows)"
   ]
  },
  {
   "cell_type": "code",
   "execution_count": 63,
   "metadata": {},
   "outputs": [],
   "source": [
    "from tqdm import tqdm"
   ]
  },
  {
   "cell_type": "code",
   "execution_count": 82,
   "metadata": {},
   "outputs": [],
   "source": [
    "def splitxy(dfs : list, x_cols, y_col):\n",
    "    x = []\n",
    "    y = []\n",
    "    for df in dfs:\n",
    "        x.append(df[x_cols].to_numpy())\n",
    "        y.append(df[y_col].to_numpy()[0]) # assume everything is of the same class\n",
    "    return np.array(x), np.array(y)"
   ]
  },
  {
   "cell_type": "code",
   "execution_count": 112,
   "metadata": {},
   "outputs": [
    {
     "data": {
      "text/plain": [
       "array([[ 1],\n",
       "       [ 1],\n",
       "       [ 1],\n",
       "       [ 1],\n",
       "       [ 1],\n",
       "       [ 1],\n",
       "       [ 1],\n",
       "       [ 1],\n",
       "       [ 1],\n",
       "       [ 1],\n",
       "       [ 1],\n",
       "       [ 1],\n",
       "       [ 1],\n",
       "       [28],\n",
       "       [28],\n",
       "       [28],\n",
       "       [28],\n",
       "       [28],\n",
       "       [28],\n",
       "       [28],\n",
       "       [28],\n",
       "       [28],\n",
       "       [28],\n",
       "       [28],\n",
       "       [28],\n",
       "       [28]], dtype=int8)"
      ]
     },
     "execution_count": 112,
     "metadata": {},
     "output_type": "execute_result"
    }
   ],
   "source": [
    "train_x, train_y = splitxy(train_windows, range(16), ['stimulus'])\n",
    "test_x, test_y = splitxy(test_windows, range(16), ['stimulus'])"
   ]
  },
  {
   "cell_type": "code",
   "execution_count": 180,
   "metadata": {},
   "outputs": [
    {
     "name": "stderr",
     "output_type": "stream",
     "text": [
      "100%|██████████| 56/56 [00:00<00:00, 5298.94it/s]\n",
      "100%|██████████| 26/26 [00:00<00:00, 4298.29it/s]\n"
     ]
    }
   ],
   "source": [
    "train_signatures = []\n",
    "for window in tqdm(train_x):\n",
    "    train_signatures.append(compute_log_signature(window, depth=2))\n",
    "test_signatures = []\n",
    "for window in tqdm(test_x):\n",
    "    test_signatures.append(compute_log_signature(window, depth=2))\n",
    "train_signatures = np.array(train_signatures)\n",
    "test_signatures = np.array(test_signatures)"
   ]
  },
  {
   "cell_type": "code",
   "execution_count": 181,
   "metadata": {},
   "outputs": [
    {
     "data": {
      "text/plain": [
       "((56, 136), (26, 136))"
      ]
     },
     "execution_count": 181,
     "metadata": {},
     "output_type": "execute_result"
    }
   ],
   "source": [
    "train_signatures.shape, test_signatures.shape"
   ]
  },
  {
   "attachments": {},
   "cell_type": "markdown",
   "metadata": {},
   "source": [
    "# I guess I will just use SVM since idk what else to use for such high dimensional data with so few samples!"
   ]
  },
  {
   "cell_type": "code",
   "execution_count": 182,
   "metadata": {},
   "outputs": [],
   "source": [
    "from sklearn import svm"
   ]
  },
  {
   "cell_type": "code",
   "execution_count": 183,
   "metadata": {},
   "outputs": [],
   "source": [
    "def accuracy(pred, true):\n",
    "    assert len(pred) == len(true), \"check lengths match\"\n",
    "    return np.sum((pred == true)) / len(pred)\n"
   ]
  },
  {
   "attachments": {},
   "cell_type": "markdown",
   "metadata": {},
   "source": [
    "oh oops sklearn has an implementation already. sadge."
   ]
  },
  {
   "cell_type": "code",
   "execution_count": 184,
   "metadata": {},
   "outputs": [],
   "source": [
    "assert accuracy(np.array([1, 1, 1, 2]), np.array([1, 2, 1, 2])) == 0.75"
   ]
  },
  {
   "cell_type": "code",
   "execution_count": 185,
   "metadata": {},
   "outputs": [],
   "source": [
    "classifier = svm.LinearSVC()"
   ]
  },
  {
   "cell_type": "code",
   "execution_count": 186,
   "metadata": {},
   "outputs": [
    {
     "data": {
      "text/plain": [
       "((56, 200, 16), (56, 1))"
      ]
     },
     "execution_count": 186,
     "metadata": {},
     "output_type": "execute_result"
    }
   ],
   "source": [
    "train_x.shape, train_y.shape"
   ]
  },
  {
   "cell_type": "code",
   "execution_count": 187,
   "metadata": {},
   "outputs": [
    {
     "name": "stdout",
     "output_type": "stream",
     "text": [
      "(56, 136) (56, 1)\n",
      "(26, 136) (26, 1)\n"
     ]
    }
   ],
   "source": [
    "print(train_signatures.shape, train_y.shape)\n",
    "print(test_signatures.shape, test_y.shape)"
   ]
  },
  {
   "cell_type": "code",
   "execution_count": 188,
   "metadata": {},
   "outputs": [
    {
     "name": "stderr",
     "output_type": "stream",
     "text": [
      "/home/alan/.miniconda3/envs/signatures/lib/python3.11/site-packages/sklearn/utils/validation.py:1143: DataConversionWarning: A column-vector y was passed when a 1d array was expected. Please change the shape of y to (n_samples, ), for example using ravel().\n",
      "  y = column_or_1d(y, warn=True)\n"
     ]
    },
    {
     "data": {
      "text/html": [
       "<style>#sk-container-id-7 {color: black;background-color: white;}#sk-container-id-7 pre{padding: 0;}#sk-container-id-7 div.sk-toggleable {background-color: white;}#sk-container-id-7 label.sk-toggleable__label {cursor: pointer;display: block;width: 100%;margin-bottom: 0;padding: 0.3em;box-sizing: border-box;text-align: center;}#sk-container-id-7 label.sk-toggleable__label-arrow:before {content: \"▸\";float: left;margin-right: 0.25em;color: #696969;}#sk-container-id-7 label.sk-toggleable__label-arrow:hover:before {color: black;}#sk-container-id-7 div.sk-estimator:hover label.sk-toggleable__label-arrow:before {color: black;}#sk-container-id-7 div.sk-toggleable__content {max-height: 0;max-width: 0;overflow: hidden;text-align: left;background-color: #f0f8ff;}#sk-container-id-7 div.sk-toggleable__content pre {margin: 0.2em;color: black;border-radius: 0.25em;background-color: #f0f8ff;}#sk-container-id-7 input.sk-toggleable__control:checked~div.sk-toggleable__content {max-height: 200px;max-width: 100%;overflow: auto;}#sk-container-id-7 input.sk-toggleable__control:checked~label.sk-toggleable__label-arrow:before {content: \"▾\";}#sk-container-id-7 div.sk-estimator input.sk-toggleable__control:checked~label.sk-toggleable__label {background-color: #d4ebff;}#sk-container-id-7 div.sk-label input.sk-toggleable__control:checked~label.sk-toggleable__label {background-color: #d4ebff;}#sk-container-id-7 input.sk-hidden--visually {border: 0;clip: rect(1px 1px 1px 1px);clip: rect(1px, 1px, 1px, 1px);height: 1px;margin: -1px;overflow: hidden;padding: 0;position: absolute;width: 1px;}#sk-container-id-7 div.sk-estimator {font-family: monospace;background-color: #f0f8ff;border: 1px dotted black;border-radius: 0.25em;box-sizing: border-box;margin-bottom: 0.5em;}#sk-container-id-7 div.sk-estimator:hover {background-color: #d4ebff;}#sk-container-id-7 div.sk-parallel-item::after {content: \"\";width: 100%;border-bottom: 1px solid gray;flex-grow: 1;}#sk-container-id-7 div.sk-label:hover label.sk-toggleable__label {background-color: #d4ebff;}#sk-container-id-7 div.sk-serial::before {content: \"\";position: absolute;border-left: 1px solid gray;box-sizing: border-box;top: 0;bottom: 0;left: 50%;z-index: 0;}#sk-container-id-7 div.sk-serial {display: flex;flex-direction: column;align-items: center;background-color: white;padding-right: 0.2em;padding-left: 0.2em;position: relative;}#sk-container-id-7 div.sk-item {position: relative;z-index: 1;}#sk-container-id-7 div.sk-parallel {display: flex;align-items: stretch;justify-content: center;background-color: white;position: relative;}#sk-container-id-7 div.sk-item::before, #sk-container-id-7 div.sk-parallel-item::before {content: \"\";position: absolute;border-left: 1px solid gray;box-sizing: border-box;top: 0;bottom: 0;left: 50%;z-index: -1;}#sk-container-id-7 div.sk-parallel-item {display: flex;flex-direction: column;z-index: 1;position: relative;background-color: white;}#sk-container-id-7 div.sk-parallel-item:first-child::after {align-self: flex-end;width: 50%;}#sk-container-id-7 div.sk-parallel-item:last-child::after {align-self: flex-start;width: 50%;}#sk-container-id-7 div.sk-parallel-item:only-child::after {width: 0;}#sk-container-id-7 div.sk-dashed-wrapped {border: 1px dashed gray;margin: 0 0.4em 0.5em 0.4em;box-sizing: border-box;padding-bottom: 0.4em;background-color: white;}#sk-container-id-7 div.sk-label label {font-family: monospace;font-weight: bold;display: inline-block;line-height: 1.2em;}#sk-container-id-7 div.sk-label-container {text-align: center;}#sk-container-id-7 div.sk-container {/* jupyter's `normalize.less` sets `[hidden] { display: none; }` but bootstrap.min.css set `[hidden] { display: none !important; }` so we also need the `!important` here to be able to override the default hidden behavior on the sphinx rendered scikit-learn.org. See: https://github.com/scikit-learn/scikit-learn/issues/21755 */display: inline-block !important;position: relative;}#sk-container-id-7 div.sk-text-repr-fallback {display: none;}</style><div id=\"sk-container-id-7\" class=\"sk-top-container\"><div class=\"sk-text-repr-fallback\"><pre>LinearSVC()</pre><b>In a Jupyter environment, please rerun this cell to show the HTML representation or trust the notebook. <br />On GitHub, the HTML representation is unable to render, please try loading this page with nbviewer.org.</b></div><div class=\"sk-container\" hidden><div class=\"sk-item\"><div class=\"sk-estimator sk-toggleable\"><input class=\"sk-toggleable__control sk-hidden--visually\" id=\"sk-estimator-id-7\" type=\"checkbox\" checked><label for=\"sk-estimator-id-7\" class=\"sk-toggleable__label sk-toggleable__label-arrow\">LinearSVC</label><div class=\"sk-toggleable__content\"><pre>LinearSVC()</pre></div></div></div></div></div>"
      ],
      "text/plain": [
       "LinearSVC()"
      ]
     },
     "execution_count": 188,
     "metadata": {},
     "output_type": "execute_result"
    }
   ],
   "source": [
    "classifier.fit(train_signatures, train_y)"
   ]
  },
  {
   "cell_type": "code",
   "execution_count": 189,
   "metadata": {},
   "outputs": [],
   "source": [
    "pred = classifier.predict(test_signatures)"
   ]
  },
  {
   "cell_type": "code",
   "execution_count": 190,
   "metadata": {},
   "outputs": [
    {
     "data": {
      "text/plain": [
       "array([28,  1,  1,  1,  1,  1,  1,  1,  1, 28, 28, 28,  1,  1,  1, 28, 28,\n",
       "       28,  1,  1,  1,  1, 28, 28, 28, 28], dtype=int8)"
      ]
     },
     "execution_count": 190,
     "metadata": {},
     "output_type": "execute_result"
    }
   ],
   "source": [
    "pred"
   ]
  },
  {
   "cell_type": "code",
   "execution_count": 191,
   "metadata": {},
   "outputs": [
    {
     "data": {
      "text/plain": [
       "array([ 1,  1,  1,  1,  1,  1,  1,  1,  1,  1,  1,  1,  1, 28, 28, 28, 28,\n",
       "       28, 28, 28, 28, 28, 28, 28, 28, 28], dtype=int8)"
      ]
     },
     "execution_count": 191,
     "metadata": {},
     "output_type": "execute_result"
    }
   ],
   "source": [
    "test_y.reshape(-1)"
   ]
  },
  {
   "cell_type": "code",
   "execution_count": 192,
   "metadata": {},
   "outputs": [
    {
     "data": {
      "text/plain": [
       "0.6153846153846154"
      ]
     },
     "execution_count": 192,
     "metadata": {},
     "output_type": "execute_result"
    }
   ],
   "source": [
    "accuracy(pred, test_y.reshape(-1))"
   ]
  },
  {
   "cell_type": "code",
   "execution_count": 219,
   "metadata": {},
   "outputs": [],
   "source": [
    "from sklearn.metrics import confusion_matrix, ConfusionMatrixDisplay"
   ]
  },
  {
   "cell_type": "code",
   "execution_count": 220,
   "metadata": {},
   "outputs": [],
   "source": [
    "cm = confusion_matrix(test_y.reshape(-1), pred)"
   ]
  },
  {
   "cell_type": "code",
   "execution_count": 223,
   "metadata": {},
   "outputs": [
    {
     "data": {
      "image/png": "[encoded data removed]",
      "text/plain": [
       "<Figure size 500x500 with 2 Axes>"
      ]
     },
     "metadata": {},
     "output_type": "display_data"
    }
   ],
   "source": [
    "fig = plt.figure(figsize=(5, 5))\n",
    "ax = fig.add_subplot(111)\n",
    "cm_display = ConfusionMatrixDisplay(cm,\n",
    "                                    display_labels=stims).plot(ax=ax,\n",
    "                                                                       xticks_rotation=\"vertical\")"
   ]
  },
  {
   "attachments": {},
   "cell_type": "markdown",
   "metadata": {},
   "source": [
    "# What about the training set?"
   ]
  },
  {
   "cell_type": "code",
   "execution_count": 193,
   "metadata": {},
   "outputs": [
    {
     "data": {
      "text/plain": [
       "1.0"
      ]
     },
     "execution_count": 193,
     "metadata": {},
     "output_type": "execute_result"
    }
   ],
   "source": [
    "train_pred = classifier.predict(train_signatures)\n",
    "accuracy(train_pred, train_y.reshape(-1))"
   ]
  },
  {
   "attachments": {},
   "cell_type": "markdown",
   "metadata": {},
   "source": [
    "# Wait that's kinda interesting. You can get 100% training acc with just a Linear SVC."
   ]
  },
  {
   "attachments": {},
   "cell_type": "markdown",
   "metadata": {},
   "source": [
    "## Lemme throw some dimensionality reduction methods at it :D"
   ]
  },
  {
   "cell_type": "code",
   "execution_count": 240,
   "metadata": {},
   "outputs": [],
   "source": [
    "from sklearn.decomposition import PCA\n",
    "from sklearn.manifold import TSNE"
   ]
  },
  {
   "cell_type": "code",
   "execution_count": 241,
   "metadata": {},
   "outputs": [
    {
     "data": {
      "text/plain": [
       "(82, 2)"
      ]
     },
     "execution_count": 241,
     "metadata": {},
     "output_type": "execute_result"
    }
   ],
   "source": [
    "pca = PCA(50)\n",
    "sne = TSNE(2)\n",
    "pca_fitted = pca.fit_transform(np.concatenate((train_signatures, test_signatures), axis=0))\n",
    "sne_fitted = sne.fit_transform(pca_fitted)\n",
    "sne_fitted.shape"
   ]
  },
  {
   "cell_type": "code",
   "execution_count": 242,
   "metadata": {},
   "outputs": [],
   "source": [
    "c1 = []\n",
    "c2 = []\n",
    "for i, pt in enumerate(sne_fitted):\n",
    "    if i < len(train_signatures):\n",
    "        if train_y[i] == 1:\n",
    "            c1.append(pt)\n",
    "        else:\n",
    "            c2.append(pt)\n",
    "    else:\n",
    "        if test_y[i - len(train_signatures)] == 1:\n",
    "            c1.append(pt)\n",
    "        else:\n",
    "            c2.append(pt)\n",
    "\n",
    "c1 = np.array(c1)\n",
    "c2 = np.array(c2)"
   ]
  },
  {
   "cell_type": "code",
   "execution_count": 243,
   "metadata": {},
   "outputs": [
    {
     "data": {
      "text/plain": [
       "<matplotlib.collections.PathCollection at 0x7f8eddd8f650>"
      ]
     },
     "execution_count": 243,
     "metadata": {},
     "output_type": "execute_result"
    },
    {
     "data": {
      "image/png": "[encoded data removed]",
      "text/plain": [
       "<Figure size 640x480 with 1 Axes>"
      ]
     },
     "metadata": {},
     "output_type": "display_data"
    }
   ],
   "source": [
    "plt.scatter(c1[:, 0], c1[:, 1], color='blue')\n",
    "plt.scatter(c2[:, 0], c2[:, 1], color='red')"
   ]
  },
  {
   "attachments": {},
   "cell_type": "markdown",
   "metadata": {},
   "source": [
    "wait... that's really impressive. nothing fancy, just dimensionality reduction methods."
   ]
  },
  {
   "cell_type": "code",
   "execution_count": null,
   "metadata": {},
   "outputs": [],
   "source": []
  }
 ],
 "metadata": {
  "kernelspec": {
   "display_name": "signatures",
   "language": "python",
   "name": "python3"
  },
  "language_info": {
   "codemirror_mode": {
    "name": "ipython",
    "version": 3
   },
   "file_extension": ".py",
   "mimetype": "text/x-python",
   "name": "python",
   "nbconvert_exporter": "python",
   "pygments_lexer": "ipython3",
   "version": "3.11.0"
  },
  "orig_nbformat": 4,
  "vscode": {
   "interpreter": {
    "hash": "bb9cc3eca2c8231e981fb1e0f6b02032d6d746c99299a8ed51289e761cd494c2"
   }
  }
 },
 "nbformat": 4,
 "nbformat_minor": 2
}
